{
  "nbformat": 4,
  "nbformat_minor": 0,
  "metadata": {
    "colab": {
      "name": "ISTA_322_FinalProject.ipynb",
      "provenance": [],
      "collapsed_sections": [
        "aGA0fhh_TX8v",
        "-21CvY52T3St"
      ]
    },
    "kernelspec": {
      "display_name": "Python 3",
      "name": "python3"
    }
  },
  "cells": [
    {
      "cell_type": "markdown",
      "metadata": {
        "id": "l0YVyBu0SnDv"
      },
      "source": [
        "# Template for your final project\n",
        "\n",
        "This is just a template that hopefully provides a rough guideline for your final project.  You will obviously need to add sections, descriptions, text, and code as needed.   "
      ]
    },
    {
      "cell_type": "markdown",
      "metadata": {
        "id": "A2O9EVQSS9ht"
      },
      "source": [
        "## Data import\n",
        "\n",
        "Import your dataset or multiple datasets here below.  Start by adding a text cell that talks about what the dataset is and provides a link to the original data source and description (i.e. it should take me to a high-level page that describes the data or source, not to a raw CSV or JSON). \n",
        "\n",
        "Then add code cells that import the data from a stable source and verifies that they have been loaded. \n",
        "\n",
        "You should also load all necessary libraries at the start. \n"
      ]
    },
    {
      "cell_type": "code",
      "metadata": {
        "id": "15ucntg9SitM"
      },
      "source": [
        "import pandas as pd\n",
        "from datetime import datetime\n",
        "import seaborn as sns\n",
        "import matplotlib.pyplot as plt\n",
        "import numpy as np"
      ],
      "execution_count": null,
      "outputs": []
    },
    {
      "cell_type": "markdown",
      "metadata": {
        "id": "H5MU290BhI0_"
      },
      "source": [
        "#Importing data from AWS S3\n",
        "###This is a csv of all the shootings in New York that have been recorded during the years ____ to _____\n",
        "This is originally where the data is from: https://catalog.data.gov/dataset/nypd-shooting-incident-data-historic"
      ]
    },
    {
      "cell_type": "code",
      "metadata": {
        "id": "6MZ0784dEfia"
      },
      "source": [
        "# Movies data\n",
        "shootings = pd.read_csv('https://ista-322-final.s3.amazonaws.com/NYPD_Shooting_Incident_Data__Historic_.csv')"
      ],
      "execution_count": null,
      "outputs": []
    },
    {
      "cell_type": "markdown",
      "metadata": {
        "id": "aGA0fhh_TX8v"
      },
      "source": [
        "## Data exploration\n",
        " \n",
        "Explore your data in individual code cells describing what you're doing.  Add in text cells that describe what you found and what you need to fix.\n",
        " \n"
      ]
    },
    {
      "cell_type": "code",
      "metadata": {
        "colab": {
          "base_uri": "https://localhost:8080/",
          "height": 394
        },
        "id": "Sz8iedbZg6kl",
        "outputId": "b6fc4cf6-323b-4595-cb45-894a59f62109"
      },
      "source": [
        "shootings.head()"
      ],
      "execution_count": null,
      "outputs": [
        {
          "output_type": "execute_result",
          "data": {
            "text/html": [
              "<div>\n",
              "<style scoped>\n",
              "    .dataframe tbody tr th:only-of-type {\n",
              "        vertical-align: middle;\n",
              "    }\n",
              "\n",
              "    .dataframe tbody tr th {\n",
              "        vertical-align: top;\n",
              "    }\n",
              "\n",
              "    .dataframe thead th {\n",
              "        text-align: right;\n",
              "    }\n",
              "</style>\n",
              "<table border=\"1\" class=\"dataframe\">\n",
              "  <thead>\n",
              "    <tr style=\"text-align: right;\">\n",
              "      <th></th>\n",
              "      <th>INCIDENT_KEY</th>\n",
              "      <th>OCCUR_DATE</th>\n",
              "      <th>OCCUR_TIME</th>\n",
              "      <th>BORO</th>\n",
              "      <th>PRECINCT</th>\n",
              "      <th>JURISDICTION_CODE</th>\n",
              "      <th>LOCATION_DESC</th>\n",
              "      <th>STATISTICAL_MURDER_FLAG</th>\n",
              "      <th>PERP_AGE_GROUP</th>\n",
              "      <th>PERP_SEX</th>\n",
              "      <th>PERP_RACE</th>\n",
              "      <th>VIC_AGE_GROUP</th>\n",
              "      <th>VIC_SEX</th>\n",
              "      <th>VIC_RACE</th>\n",
              "      <th>X_COORD_CD</th>\n",
              "      <th>Y_COORD_CD</th>\n",
              "      <th>Latitude</th>\n",
              "      <th>Longitude</th>\n",
              "      <th>Lon_Lat</th>\n",
              "    </tr>\n",
              "  </thead>\n",
              "  <tbody>\n",
              "    <tr>\n",
              "      <th>0</th>\n",
              "      <td>201575314</td>\n",
              "      <td>08/23/2019</td>\n",
              "      <td>22:10:00</td>\n",
              "      <td>QUEENS</td>\n",
              "      <td>103</td>\n",
              "      <td>0.0</td>\n",
              "      <td>NaN</td>\n",
              "      <td>False</td>\n",
              "      <td>NaN</td>\n",
              "      <td>NaN</td>\n",
              "      <td>NaN</td>\n",
              "      <td>25-44</td>\n",
              "      <td>M</td>\n",
              "      <td>BLACK</td>\n",
              "      <td>1037451</td>\n",
              "      <td>193561</td>\n",
              "      <td>40.697805</td>\n",
              "      <td>-73.808141</td>\n",
              "      <td>POINT (-73.80814071699996 40.697805308000056)</td>\n",
              "    </tr>\n",
              "    <tr>\n",
              "      <th>1</th>\n",
              "      <td>205748546</td>\n",
              "      <td>11/27/2019</td>\n",
              "      <td>15:54:00</td>\n",
              "      <td>BRONX</td>\n",
              "      <td>40</td>\n",
              "      <td>0.0</td>\n",
              "      <td>NaN</td>\n",
              "      <td>False</td>\n",
              "      <td>&lt;18</td>\n",
              "      <td>M</td>\n",
              "      <td>BLACK</td>\n",
              "      <td>25-44</td>\n",
              "      <td>F</td>\n",
              "      <td>BLACK</td>\n",
              "      <td>1006789</td>\n",
              "      <td>237559</td>\n",
              "      <td>40.818700</td>\n",
              "      <td>-73.918571</td>\n",
              "      <td>POINT (-73.91857061799993 40.81869973000005)</td>\n",
              "    </tr>\n",
              "    <tr>\n",
              "      <th>2</th>\n",
              "      <td>193118596</td>\n",
              "      <td>02/02/2019</td>\n",
              "      <td>19:40:00</td>\n",
              "      <td>MANHATTAN</td>\n",
              "      <td>23</td>\n",
              "      <td>0.0</td>\n",
              "      <td>NaN</td>\n",
              "      <td>False</td>\n",
              "      <td>18-24</td>\n",
              "      <td>M</td>\n",
              "      <td>WHITE HISPANIC</td>\n",
              "      <td>18-24</td>\n",
              "      <td>M</td>\n",
              "      <td>BLACK HISPANIC</td>\n",
              "      <td>999347</td>\n",
              "      <td>227795</td>\n",
              "      <td>40.791916</td>\n",
              "      <td>-73.945480</td>\n",
              "      <td>POINT (-73.94547965999999 40.791916091000076)</td>\n",
              "    </tr>\n",
              "    <tr>\n",
              "      <th>3</th>\n",
              "      <td>204192600</td>\n",
              "      <td>10/24/2019</td>\n",
              "      <td>00:52:00</td>\n",
              "      <td>STATEN ISLAND</td>\n",
              "      <td>121</td>\n",
              "      <td>0.0</td>\n",
              "      <td>PVT HOUSE</td>\n",
              "      <td>True</td>\n",
              "      <td>25-44</td>\n",
              "      <td>M</td>\n",
              "      <td>BLACK</td>\n",
              "      <td>25-44</td>\n",
              "      <td>F</td>\n",
              "      <td>BLACK</td>\n",
              "      <td>938149</td>\n",
              "      <td>171781</td>\n",
              "      <td>40.638064</td>\n",
              "      <td>-74.166108</td>\n",
              "      <td>POINT (-74.16610830199996 40.63806398200006)</td>\n",
              "    </tr>\n",
              "    <tr>\n",
              "      <th>4</th>\n",
              "      <td>201483468</td>\n",
              "      <td>08/22/2019</td>\n",
              "      <td>18:03:00</td>\n",
              "      <td>BRONX</td>\n",
              "      <td>46</td>\n",
              "      <td>0.0</td>\n",
              "      <td>NaN</td>\n",
              "      <td>False</td>\n",
              "      <td>25-44</td>\n",
              "      <td>M</td>\n",
              "      <td>BLACK HISPANIC</td>\n",
              "      <td>18-24</td>\n",
              "      <td>M</td>\n",
              "      <td>BLACK</td>\n",
              "      <td>1008224</td>\n",
              "      <td>250621</td>\n",
              "      <td>40.854547</td>\n",
              "      <td>-73.913339</td>\n",
              "      <td>POINT (-73.91333944399999 40.85454734900003)</td>\n",
              "    </tr>\n",
              "  </tbody>\n",
              "</table>\n",
              "</div>"
            ],
            "text/plain": [
              "   INCIDENT_KEY  ...                                        Lon_Lat\n",
              "0     201575314  ...  POINT (-73.80814071699996 40.697805308000056)\n",
              "1     205748546  ...   POINT (-73.91857061799993 40.81869973000005)\n",
              "2     193118596  ...  POINT (-73.94547965999999 40.791916091000076)\n",
              "3     204192600  ...   POINT (-74.16610830199996 40.63806398200006)\n",
              "4     201483468  ...   POINT (-73.91333944399999 40.85454734900003)\n",
              "\n",
              "[5 rows x 19 columns]"
            ]
          },
          "metadata": {
            "tags": []
          },
          "execution_count": 132
        }
      ]
    },
    {
      "cell_type": "markdown",
      "metadata": {
        "id": "FiL2NYj4HqMj"
      },
      "source": [
        "###Check Shape"
      ]
    },
    {
      "cell_type": "code",
      "metadata": {
        "colab": {
          "base_uri": "https://localhost:8080/"
        },
        "id": "05JhkgQ0HpwR",
        "outputId": "9057df70-e750-4f54-bc7b-7fd4fb81481d"
      },
      "source": [
        "shootings.shape"
      ],
      "execution_count": null,
      "outputs": [
        {
          "output_type": "execute_result",
          "data": {
            "text/plain": [
              "(21626, 19)"
            ]
          },
          "metadata": {
            "tags": []
          },
          "execution_count": 7
        }
      ]
    },
    {
      "cell_type": "markdown",
      "metadata": {
        "id": "c1oeXaQbRHVM"
      },
      "source": [
        "###Describe shootings"
      ]
    },
    {
      "cell_type": "code",
      "metadata": {
        "id": "oMBvwpASRMuu"
      },
      "source": [
        "shootings.describe()"
      ],
      "execution_count": null,
      "outputs": []
    },
    {
      "cell_type": "markdown",
      "metadata": {
        "id": "JRFtkRuNjI0M"
      },
      "source": [
        "###There seems to be quite a bit of NaN values in the data. This needs to be cleaned."
      ]
    },
    {
      "cell_type": "code",
      "metadata": {
        "colab": {
          "base_uri": "https://localhost:8080/"
        },
        "id": "CtuR3bP6T2lN",
        "outputId": "5334ef1e-f421-40fb-fa43-4d9ce61c3688"
      },
      "source": [
        "shootings.dtypes"
      ],
      "execution_count": null,
      "outputs": [
        {
          "output_type": "execute_result",
          "data": {
            "text/plain": [
              "INCIDENT_KEY                 int64\n",
              "OCCUR_DATE                  object\n",
              "OCCUR_TIME                  object\n",
              "BORO                        object\n",
              "PRECINCT                     int64\n",
              "JURISDICTION_CODE          float64\n",
              "LOCATION_DESC               object\n",
              "STATISTICAL_MURDER_FLAG       bool\n",
              "PERP_AGE_GROUP              object\n",
              "PERP_SEX                    object\n",
              "PERP_RACE                   object\n",
              "VIC_AGE_GROUP               object\n",
              "VIC_SEX                     object\n",
              "VIC_RACE                    object\n",
              "X_COORD_CD                  object\n",
              "Y_COORD_CD                  object\n",
              "Latitude                   float64\n",
              "Longitude                  float64\n",
              "Lon_Lat                     object\n",
              "dtype: object"
            ]
          },
          "metadata": {
            "tags": []
          },
          "execution_count": 8
        }
      ]
    },
    {
      "cell_type": "markdown",
      "metadata": {
        "id": "LsfaHxO5jnQF"
      },
      "source": [
        "### There also are dates which need to be changed to a datetime. "
      ]
    },
    {
      "cell_type": "markdown",
      "metadata": {
        "id": "1yujeJiyjANf"
      },
      "source": [
        "Check that we only have the 5 Boros of New York"
      ]
    },
    {
      "cell_type": "code",
      "metadata": {
        "colab": {
          "base_uri": "https://localhost:8080/"
        },
        "id": "B6lUTGsui3rY",
        "outputId": "a4f0de0a-de27-472c-90f3-089ec5ebfb7b"
      },
      "source": [
        "shootings.BORO.unique()\n"
      ],
      "execution_count": null,
      "outputs": [
        {
          "output_type": "execute_result",
          "data": {
            "text/plain": [
              "array(['QUEENS', 'BRONX', 'MANHATTAN', 'STATEN ISLAND', 'BROOKLYN'],\n",
              "      dtype=object)"
            ]
          },
          "metadata": {
            "tags": []
          },
          "execution_count": 9
        }
      ]
    },
    {
      "cell_type": "markdown",
      "metadata": {
        "id": "Ra4dIhVCktea"
      },
      "source": [
        "Check the perpatrator's races and victim's races"
      ]
    },
    {
      "cell_type": "code",
      "metadata": {
        "colab": {
          "base_uri": "https://localhost:8080/"
        },
        "id": "IWihglhrk2np",
        "outputId": "ffd0a08d-5881-4b3e-f27e-d9446dfd7842"
      },
      "source": [
        "shootings.PERP_RACE.unique()"
      ],
      "execution_count": null,
      "outputs": [
        {
          "output_type": "execute_result",
          "data": {
            "text/plain": [
              "array([nan, 'BLACK', 'WHITE HISPANIC', 'BLACK HISPANIC', 'UNKNOWN',\n",
              "       'WHITE', 'ASIAN / PACIFIC ISLANDER',\n",
              "       'AMERICAN INDIAN/ALASKAN NATIVE'], dtype=object)"
            ]
          },
          "metadata": {
            "tags": []
          },
          "execution_count": 10
        }
      ]
    },
    {
      "cell_type": "code",
      "metadata": {
        "colab": {
          "base_uri": "https://localhost:8080/"
        },
        "id": "QIC0sygOk8ky",
        "outputId": "41fa5397-d158-438d-8be3-29a3379d5225"
      },
      "source": [
        "shootings.VIC_RACE.unique()"
      ],
      "execution_count": null,
      "outputs": [
        {
          "output_type": "execute_result",
          "data": {
            "text/plain": [
              "array(['BLACK', 'BLACK HISPANIC', 'WHITE HISPANIC', 'WHITE',\n",
              "       'ASIAN / PACIFIC ISLANDER', 'UNKNOWN',\n",
              "       'AMERICAN INDIAN/ALASKAN NATIVE'], dtype=object)"
            ]
          },
          "metadata": {
            "tags": []
          },
          "execution_count": 11
        }
      ]
    },
    {
      "cell_type": "markdown",
      "metadata": {
        "id": "90PPSjiylemb"
      },
      "source": [
        "Checking locations of the incidents"
      ]
    },
    {
      "cell_type": "code",
      "metadata": {
        "colab": {
          "base_uri": "https://localhost:8080/"
        },
        "id": "OMco6Dollh-o",
        "outputId": "b9ef3b1b-aeac-4138-a5ed-85b25d6c3c96"
      },
      "source": [
        "shootings.LOCATION_DESC.unique()"
      ],
      "execution_count": null,
      "outputs": [
        {
          "output_type": "execute_result",
          "data": {
            "text/plain": [
              "array([nan, 'PVT HOUSE', 'MULTI DWELL - APT BUILD',\n",
              "       'MULTI DWELL - PUBLIC HOUS', 'GROCERY/BODEGA', 'GAS STATION',\n",
              "       'FAST FOOD', 'BAR/NIGHT CLUB', 'COMMERCIAL BLDG',\n",
              "       'SOCIAL CLUB/POLICY LOCATI', 'HOSPITAL', 'SUPERMARKET',\n",
              "       'LIQUOR STORE', 'HOTEL/MOTEL', 'RESTAURANT/DINER', 'SHOE STORE',\n",
              "       'DRUG STORE', 'NONE', 'DRY CLEANER/LAUNDRY', 'BEAUTY/NAIL SALON',\n",
              "       'STORE UNCLASSIFIED', 'SMALL MERCHANT', 'DEPT STORE',\n",
              "       'FACTORY/WAREHOUSE', 'CLOTHING BOUTIQUE', 'VARIETY STORE',\n",
              "       'JEWELRY STORE', 'TELECOMM. STORE', 'CHAIN STORE', 'CANDY STORE',\n",
              "       'VIDEO STORE', 'GYM/FITNESS FACILITY', 'ATM', 'SCHOOL',\n",
              "       'PHOTO/COPY STORE', 'BANK', 'LOAN COMPANY', 'STORAGE FACILITY',\n",
              "       'CHECK CASH', 'DOCTOR/DENTIST'], dtype=object)"
            ]
          },
          "metadata": {
            "tags": []
          },
          "execution_count": 12
        }
      ]
    },
    {
      "cell_type": "markdown",
      "metadata": {
        "id": "F7pz9GdhTnMP"
      },
      "source": [
        "## Roadmap\n",
        "\n",
        "Add in text cells that describe what the data are based on your exploration *and* where you want to take the data.  In other words, what is your data endpoint? Also describe the specific steps you need to take in your extractions and transformations to get to that endpoint."
      ]
    },
    {
      "cell_type": "markdown",
      "metadata": {
        "id": "HXtbi8aMrb-u"
      },
      "source": [
        "#What the data is\n",
        "The data is collection of cases of crimes committed in NewYork. It gives detailed explanations of what happened in that particular incident."
      ]
    },
    {
      "cell_type": "markdown",
      "metadata": {
        "id": "CcbXvsmaok7S"
      },
      "source": [
        "#Where to take the data\n",
        "## First Step\n",
        "###Drop Duplicate key values\n",
        "Found this when trying to upload to AWS. Dropping these will help us upload the data.\n",
        "## Second Step\n",
        "###Clean Data. Need to remove, NaN value, change datetime, etc.\n",
        "To do this: need to replace NaN with Unknown string\n",
        "## Third Step\n",
        "###Change Dates from strings to Datetime objects.\n",
        "To do this: need to change dates with Datetime objects using to_datetime function in pandas.\n",
        "## Fourth Step\n",
        "###Figure out what is the most troublesome precinct.\n",
        "Use transforms (groupby and agg functions) to get this data.\n",
        "##Fifth Step\n",
        "###Figure out whether a crime was committed by the most troublesome group (based on ages, race of each Boro).\n",
        "Use transforms (groupby and agg functions) to get this data.\n",
        "##Sixth Step\n",
        "###Figure out which age group/race was affected by a crime the most (based on ages, race of each Boro).\n",
        "Use transforms (groupby and agg functions) to get this data.\n",
        "##Seventh Step\n",
        "###Change Statistical murder flag to 0 and 1 from booleans and then find the avg of each precinct in each Boro then compare it to the boro's statistical murder flag\n",
        "Use a replace to replace the True and False values with 0 and 1's, then do a groupby on the precincts and boros and aggregate the averages."
      ]
    },
    {
      "cell_type": "markdown",
      "metadata": {
        "id": "-21CvY52T3St"
      },
      "source": [
        "## Transforms\n",
        " \n",
        "Start your transforms here.  You should be doing the transforms you listed in your roadmap.  For each transform describe what you're doing by annotating the code.  Also include code that validates that the transformed data looks like what you want it to.  For example, if you filtered data, do a summary of some type that makes sure your data contains the correct filtered values. \n",
        " \n",
        "This section will be the most intensive."
      ]
    },
    {
      "cell_type": "markdown",
      "metadata": {
        "id": "ACpDfdrjAvu6"
      },
      "source": [
        "###Drop Duplicate Keys"
      ]
    },
    {
      "cell_type": "code",
      "metadata": {
        "id": "5k7jjNxNAz42"
      },
      "source": [
        "shootings = shootings.drop_duplicates(subset=\"INCIDENT_KEY\")"
      ],
      "execution_count": null,
      "outputs": []
    },
    {
      "cell_type": "markdown",
      "metadata": {
        "id": "SXFwLnrKkIwK"
      },
      "source": [
        "###Replace NaNs with Unknown"
      ]
    },
    {
      "cell_type": "code",
      "metadata": {
        "colab": {
          "base_uri": "https://localhost:8080/",
          "height": 394
        },
        "id": "OwSh837tUO9B",
        "outputId": "de1c8e84-082d-4c56-d065-5f96288a92ee"
      },
      "source": [
        "import numpy as np\n",
        "shootings = shootings.replace(np.nan, 'Unknown', regex=True)\n",
        "# check data\n",
        "shootings.head()"
      ],
      "execution_count": null,
      "outputs": [
        {
          "output_type": "execute_result",
          "data": {
            "text/html": [
              "<div>\n",
              "<style scoped>\n",
              "    .dataframe tbody tr th:only-of-type {\n",
              "        vertical-align: middle;\n",
              "    }\n",
              "\n",
              "    .dataframe tbody tr th {\n",
              "        vertical-align: top;\n",
              "    }\n",
              "\n",
              "    .dataframe thead th {\n",
              "        text-align: right;\n",
              "    }\n",
              "</style>\n",
              "<table border=\"1\" class=\"dataframe\">\n",
              "  <thead>\n",
              "    <tr style=\"text-align: right;\">\n",
              "      <th></th>\n",
              "      <th>INCIDENT_KEY</th>\n",
              "      <th>OCCUR_DATE</th>\n",
              "      <th>OCCUR_TIME</th>\n",
              "      <th>BORO</th>\n",
              "      <th>PRECINCT</th>\n",
              "      <th>JURISDICTION_CODE</th>\n",
              "      <th>LOCATION_DESC</th>\n",
              "      <th>STATISTICAL_MURDER_FLAG</th>\n",
              "      <th>PERP_AGE_GROUP</th>\n",
              "      <th>PERP_SEX</th>\n",
              "      <th>PERP_RACE</th>\n",
              "      <th>VIC_AGE_GROUP</th>\n",
              "      <th>VIC_SEX</th>\n",
              "      <th>VIC_RACE</th>\n",
              "      <th>X_COORD_CD</th>\n",
              "      <th>Y_COORD_CD</th>\n",
              "      <th>Latitude</th>\n",
              "      <th>Longitude</th>\n",
              "      <th>Lon_Lat</th>\n",
              "    </tr>\n",
              "  </thead>\n",
              "  <tbody>\n",
              "    <tr>\n",
              "      <th>0</th>\n",
              "      <td>201575314</td>\n",
              "      <td>08/23/2019</td>\n",
              "      <td>22:10:00</td>\n",
              "      <td>QUEENS</td>\n",
              "      <td>103</td>\n",
              "      <td>0</td>\n",
              "      <td>Unknown</td>\n",
              "      <td>False</td>\n",
              "      <td>Unknown</td>\n",
              "      <td>Unknown</td>\n",
              "      <td>Unknown</td>\n",
              "      <td>25-44</td>\n",
              "      <td>M</td>\n",
              "      <td>BLACK</td>\n",
              "      <td>1037451</td>\n",
              "      <td>193561</td>\n",
              "      <td>40.697805</td>\n",
              "      <td>-73.808141</td>\n",
              "      <td>POINT (-73.80814071699996 40.697805308000056)</td>\n",
              "    </tr>\n",
              "    <tr>\n",
              "      <th>1</th>\n",
              "      <td>205748546</td>\n",
              "      <td>11/27/2019</td>\n",
              "      <td>15:54:00</td>\n",
              "      <td>BRONX</td>\n",
              "      <td>40</td>\n",
              "      <td>0</td>\n",
              "      <td>Unknown</td>\n",
              "      <td>False</td>\n",
              "      <td>&lt;18</td>\n",
              "      <td>M</td>\n",
              "      <td>BLACK</td>\n",
              "      <td>25-44</td>\n",
              "      <td>F</td>\n",
              "      <td>BLACK</td>\n",
              "      <td>1006789</td>\n",
              "      <td>237559</td>\n",
              "      <td>40.818700</td>\n",
              "      <td>-73.918571</td>\n",
              "      <td>POINT (-73.91857061799993 40.81869973000005)</td>\n",
              "    </tr>\n",
              "    <tr>\n",
              "      <th>2</th>\n",
              "      <td>193118596</td>\n",
              "      <td>02/02/2019</td>\n",
              "      <td>19:40:00</td>\n",
              "      <td>MANHATTAN</td>\n",
              "      <td>23</td>\n",
              "      <td>0</td>\n",
              "      <td>Unknown</td>\n",
              "      <td>False</td>\n",
              "      <td>18-24</td>\n",
              "      <td>M</td>\n",
              "      <td>WHITE HISPANIC</td>\n",
              "      <td>18-24</td>\n",
              "      <td>M</td>\n",
              "      <td>BLACK HISPANIC</td>\n",
              "      <td>999347</td>\n",
              "      <td>227795</td>\n",
              "      <td>40.791916</td>\n",
              "      <td>-73.945480</td>\n",
              "      <td>POINT (-73.94547965999999 40.791916091000076)</td>\n",
              "    </tr>\n",
              "    <tr>\n",
              "      <th>3</th>\n",
              "      <td>204192600</td>\n",
              "      <td>10/24/2019</td>\n",
              "      <td>00:52:00</td>\n",
              "      <td>STATEN ISLAND</td>\n",
              "      <td>121</td>\n",
              "      <td>0</td>\n",
              "      <td>PVT HOUSE</td>\n",
              "      <td>True</td>\n",
              "      <td>25-44</td>\n",
              "      <td>M</td>\n",
              "      <td>BLACK</td>\n",
              "      <td>25-44</td>\n",
              "      <td>F</td>\n",
              "      <td>BLACK</td>\n",
              "      <td>938149</td>\n",
              "      <td>171781</td>\n",
              "      <td>40.638064</td>\n",
              "      <td>-74.166108</td>\n",
              "      <td>POINT (-74.16610830199996 40.63806398200006)</td>\n",
              "    </tr>\n",
              "    <tr>\n",
              "      <th>4</th>\n",
              "      <td>201483468</td>\n",
              "      <td>08/22/2019</td>\n",
              "      <td>18:03:00</td>\n",
              "      <td>BRONX</td>\n",
              "      <td>46</td>\n",
              "      <td>0</td>\n",
              "      <td>Unknown</td>\n",
              "      <td>False</td>\n",
              "      <td>25-44</td>\n",
              "      <td>M</td>\n",
              "      <td>BLACK HISPANIC</td>\n",
              "      <td>18-24</td>\n",
              "      <td>M</td>\n",
              "      <td>BLACK</td>\n",
              "      <td>1008224</td>\n",
              "      <td>250621</td>\n",
              "      <td>40.854547</td>\n",
              "      <td>-73.913339</td>\n",
              "      <td>POINT (-73.91333944399999 40.85454734900003)</td>\n",
              "    </tr>\n",
              "  </tbody>\n",
              "</table>\n",
              "</div>"
            ],
            "text/plain": [
              "   INCIDENT_KEY  ...                                        Lon_Lat\n",
              "0     201575314  ...  POINT (-73.80814071699996 40.697805308000056)\n",
              "1     205748546  ...   POINT (-73.91857061799993 40.81869973000005)\n",
              "2     193118596  ...  POINT (-73.94547965999999 40.791916091000076)\n",
              "3     204192600  ...   POINT (-74.16610830199996 40.63806398200006)\n",
              "4     201483468  ...   POINT (-73.91333944399999 40.85454734900003)\n",
              "\n",
              "[5 rows x 19 columns]"
            ]
          },
          "metadata": {
            "tags": []
          },
          "execution_count": 134
        }
      ]
    },
    {
      "cell_type": "markdown",
      "metadata": {
        "id": "SZlLRzOAkPce"
      },
      "source": [
        "###Change String objects in dates and time to datetime objects"
      ]
    },
    {
      "cell_type": "code",
      "metadata": {
        "colab": {
          "base_uri": "https://localhost:8080/",
          "height": 394
        },
        "id": "5S7olPzakX3X",
        "outputId": "6299b077-1373-4e7c-9a2d-2f8965f68c1f"
      },
      "source": [
        "shootings['OCCUR_DATETIME'] = pd.to_datetime(shootings['OCCUR_DATE'] + shootings['OCCUR_TIME'], format='%m/%d/%Y%H:%M:%S')\n",
        "# check data\n",
        "shootings.head()"
      ],
      "execution_count": null,
      "outputs": [
        {
          "output_type": "execute_result",
          "data": {
            "text/html": [
              "<div>\n",
              "<style scoped>\n",
              "    .dataframe tbody tr th:only-of-type {\n",
              "        vertical-align: middle;\n",
              "    }\n",
              "\n",
              "    .dataframe tbody tr th {\n",
              "        vertical-align: top;\n",
              "    }\n",
              "\n",
              "    .dataframe thead th {\n",
              "        text-align: right;\n",
              "    }\n",
              "</style>\n",
              "<table border=\"1\" class=\"dataframe\">\n",
              "  <thead>\n",
              "    <tr style=\"text-align: right;\">\n",
              "      <th></th>\n",
              "      <th>INCIDENT_KEY</th>\n",
              "      <th>OCCUR_DATE</th>\n",
              "      <th>OCCUR_TIME</th>\n",
              "      <th>BORO</th>\n",
              "      <th>PRECINCT</th>\n",
              "      <th>JURISDICTION_CODE</th>\n",
              "      <th>LOCATION_DESC</th>\n",
              "      <th>STATISTICAL_MURDER_FLAG</th>\n",
              "      <th>PERP_AGE_GROUP</th>\n",
              "      <th>PERP_SEX</th>\n",
              "      <th>PERP_RACE</th>\n",
              "      <th>VIC_AGE_GROUP</th>\n",
              "      <th>VIC_SEX</th>\n",
              "      <th>VIC_RACE</th>\n",
              "      <th>X_COORD_CD</th>\n",
              "      <th>Y_COORD_CD</th>\n",
              "      <th>Latitude</th>\n",
              "      <th>Longitude</th>\n",
              "      <th>Lon_Lat</th>\n",
              "      <th>OCCUR_DATETIME</th>\n",
              "    </tr>\n",
              "  </thead>\n",
              "  <tbody>\n",
              "    <tr>\n",
              "      <th>0</th>\n",
              "      <td>201575314</td>\n",
              "      <td>08/23/2019</td>\n",
              "      <td>22:10:00</td>\n",
              "      <td>QUEENS</td>\n",
              "      <td>103</td>\n",
              "      <td>0</td>\n",
              "      <td>Unknown</td>\n",
              "      <td>False</td>\n",
              "      <td>Unknown</td>\n",
              "      <td>Unknown</td>\n",
              "      <td>Unknown</td>\n",
              "      <td>25-44</td>\n",
              "      <td>M</td>\n",
              "      <td>BLACK</td>\n",
              "      <td>1037451</td>\n",
              "      <td>193561</td>\n",
              "      <td>40.697805</td>\n",
              "      <td>-73.808141</td>\n",
              "      <td>POINT (-73.80814071699996 40.697805308000056)</td>\n",
              "      <td>2019-08-23 22:10:00</td>\n",
              "    </tr>\n",
              "    <tr>\n",
              "      <th>1</th>\n",
              "      <td>205748546</td>\n",
              "      <td>11/27/2019</td>\n",
              "      <td>15:54:00</td>\n",
              "      <td>BRONX</td>\n",
              "      <td>40</td>\n",
              "      <td>0</td>\n",
              "      <td>Unknown</td>\n",
              "      <td>False</td>\n",
              "      <td>&lt;18</td>\n",
              "      <td>M</td>\n",
              "      <td>BLACK</td>\n",
              "      <td>25-44</td>\n",
              "      <td>F</td>\n",
              "      <td>BLACK</td>\n",
              "      <td>1006789</td>\n",
              "      <td>237559</td>\n",
              "      <td>40.818700</td>\n",
              "      <td>-73.918571</td>\n",
              "      <td>POINT (-73.91857061799993 40.81869973000005)</td>\n",
              "      <td>2019-11-27 15:54:00</td>\n",
              "    </tr>\n",
              "    <tr>\n",
              "      <th>2</th>\n",
              "      <td>193118596</td>\n",
              "      <td>02/02/2019</td>\n",
              "      <td>19:40:00</td>\n",
              "      <td>MANHATTAN</td>\n",
              "      <td>23</td>\n",
              "      <td>0</td>\n",
              "      <td>Unknown</td>\n",
              "      <td>False</td>\n",
              "      <td>18-24</td>\n",
              "      <td>M</td>\n",
              "      <td>WHITE HISPANIC</td>\n",
              "      <td>18-24</td>\n",
              "      <td>M</td>\n",
              "      <td>BLACK HISPANIC</td>\n",
              "      <td>999347</td>\n",
              "      <td>227795</td>\n",
              "      <td>40.791916</td>\n",
              "      <td>-73.945480</td>\n",
              "      <td>POINT (-73.94547965999999 40.791916091000076)</td>\n",
              "      <td>2019-02-02 19:40:00</td>\n",
              "    </tr>\n",
              "    <tr>\n",
              "      <th>3</th>\n",
              "      <td>204192600</td>\n",
              "      <td>10/24/2019</td>\n",
              "      <td>00:52:00</td>\n",
              "      <td>STATEN ISLAND</td>\n",
              "      <td>121</td>\n",
              "      <td>0</td>\n",
              "      <td>PVT HOUSE</td>\n",
              "      <td>True</td>\n",
              "      <td>25-44</td>\n",
              "      <td>M</td>\n",
              "      <td>BLACK</td>\n",
              "      <td>25-44</td>\n",
              "      <td>F</td>\n",
              "      <td>BLACK</td>\n",
              "      <td>938149</td>\n",
              "      <td>171781</td>\n",
              "      <td>40.638064</td>\n",
              "      <td>-74.166108</td>\n",
              "      <td>POINT (-74.16610830199996 40.63806398200006)</td>\n",
              "      <td>2019-10-24 00:52:00</td>\n",
              "    </tr>\n",
              "    <tr>\n",
              "      <th>4</th>\n",
              "      <td>201483468</td>\n",
              "      <td>08/22/2019</td>\n",
              "      <td>18:03:00</td>\n",
              "      <td>BRONX</td>\n",
              "      <td>46</td>\n",
              "      <td>0</td>\n",
              "      <td>Unknown</td>\n",
              "      <td>False</td>\n",
              "      <td>25-44</td>\n",
              "      <td>M</td>\n",
              "      <td>BLACK HISPANIC</td>\n",
              "      <td>18-24</td>\n",
              "      <td>M</td>\n",
              "      <td>BLACK</td>\n",
              "      <td>1008224</td>\n",
              "      <td>250621</td>\n",
              "      <td>40.854547</td>\n",
              "      <td>-73.913339</td>\n",
              "      <td>POINT (-73.91333944399999 40.85454734900003)</td>\n",
              "      <td>2019-08-22 18:03:00</td>\n",
              "    </tr>\n",
              "  </tbody>\n",
              "</table>\n",
              "</div>"
            ],
            "text/plain": [
              "   INCIDENT_KEY  ...      OCCUR_DATETIME\n",
              "0     201575314  ... 2019-08-23 22:10:00\n",
              "1     205748546  ... 2019-11-27 15:54:00\n",
              "2     193118596  ... 2019-02-02 19:40:00\n",
              "3     204192600  ... 2019-10-24 00:52:00\n",
              "4     201483468  ... 2019-08-22 18:03:00\n",
              "\n",
              "[5 rows x 20 columns]"
            ]
          },
          "metadata": {
            "tags": []
          },
          "execution_count": 135
        }
      ]
    },
    {
      "cell_type": "markdown",
      "metadata": {
        "id": "858OX9FRnxcY"
      },
      "source": [
        "###Delete old date/time columns as to clean data"
      ]
    },
    {
      "cell_type": "code",
      "metadata": {
        "colab": {
          "base_uri": "https://localhost:8080/",
          "height": 394
        },
        "id": "Av-m3nKTn6Fc",
        "outputId": "fbf2db37-0e6e-4333-ce9d-0b00a50527a4"
      },
      "source": [
        "del shootings['OCCUR_DATE']\n",
        "del shootings['OCCUR_TIME']\n",
        "# check that it was done\n",
        "shootings.head()"
      ],
      "execution_count": null,
      "outputs": [
        {
          "output_type": "execute_result",
          "data": {
            "text/html": [
              "<div>\n",
              "<style scoped>\n",
              "    .dataframe tbody tr th:only-of-type {\n",
              "        vertical-align: middle;\n",
              "    }\n",
              "\n",
              "    .dataframe tbody tr th {\n",
              "        vertical-align: top;\n",
              "    }\n",
              "\n",
              "    .dataframe thead th {\n",
              "        text-align: right;\n",
              "    }\n",
              "</style>\n",
              "<table border=\"1\" class=\"dataframe\">\n",
              "  <thead>\n",
              "    <tr style=\"text-align: right;\">\n",
              "      <th></th>\n",
              "      <th>INCIDENT_KEY</th>\n",
              "      <th>BORO</th>\n",
              "      <th>PRECINCT</th>\n",
              "      <th>JURISDICTION_CODE</th>\n",
              "      <th>LOCATION_DESC</th>\n",
              "      <th>STATISTICAL_MURDER_FLAG</th>\n",
              "      <th>PERP_AGE_GROUP</th>\n",
              "      <th>PERP_SEX</th>\n",
              "      <th>PERP_RACE</th>\n",
              "      <th>VIC_AGE_GROUP</th>\n",
              "      <th>VIC_SEX</th>\n",
              "      <th>VIC_RACE</th>\n",
              "      <th>X_COORD_CD</th>\n",
              "      <th>Y_COORD_CD</th>\n",
              "      <th>Latitude</th>\n",
              "      <th>Longitude</th>\n",
              "      <th>Lon_Lat</th>\n",
              "      <th>OCCUR_DATETIME</th>\n",
              "    </tr>\n",
              "  </thead>\n",
              "  <tbody>\n",
              "    <tr>\n",
              "      <th>0</th>\n",
              "      <td>201575314</td>\n",
              "      <td>QUEENS</td>\n",
              "      <td>103</td>\n",
              "      <td>0</td>\n",
              "      <td>Unknown</td>\n",
              "      <td>False</td>\n",
              "      <td>Unknown</td>\n",
              "      <td>Unknown</td>\n",
              "      <td>Unknown</td>\n",
              "      <td>25-44</td>\n",
              "      <td>M</td>\n",
              "      <td>BLACK</td>\n",
              "      <td>1037451</td>\n",
              "      <td>193561</td>\n",
              "      <td>40.697805</td>\n",
              "      <td>-73.808141</td>\n",
              "      <td>POINT (-73.80814071699996 40.697805308000056)</td>\n",
              "      <td>2019-08-23 22:10:00</td>\n",
              "    </tr>\n",
              "    <tr>\n",
              "      <th>1</th>\n",
              "      <td>205748546</td>\n",
              "      <td>BRONX</td>\n",
              "      <td>40</td>\n",
              "      <td>0</td>\n",
              "      <td>Unknown</td>\n",
              "      <td>False</td>\n",
              "      <td>&lt;18</td>\n",
              "      <td>M</td>\n",
              "      <td>BLACK</td>\n",
              "      <td>25-44</td>\n",
              "      <td>F</td>\n",
              "      <td>BLACK</td>\n",
              "      <td>1006789</td>\n",
              "      <td>237559</td>\n",
              "      <td>40.818700</td>\n",
              "      <td>-73.918571</td>\n",
              "      <td>POINT (-73.91857061799993 40.81869973000005)</td>\n",
              "      <td>2019-11-27 15:54:00</td>\n",
              "    </tr>\n",
              "    <tr>\n",
              "      <th>2</th>\n",
              "      <td>193118596</td>\n",
              "      <td>MANHATTAN</td>\n",
              "      <td>23</td>\n",
              "      <td>0</td>\n",
              "      <td>Unknown</td>\n",
              "      <td>False</td>\n",
              "      <td>18-24</td>\n",
              "      <td>M</td>\n",
              "      <td>WHITE HISPANIC</td>\n",
              "      <td>18-24</td>\n",
              "      <td>M</td>\n",
              "      <td>BLACK HISPANIC</td>\n",
              "      <td>999347</td>\n",
              "      <td>227795</td>\n",
              "      <td>40.791916</td>\n",
              "      <td>-73.945480</td>\n",
              "      <td>POINT (-73.94547965999999 40.791916091000076)</td>\n",
              "      <td>2019-02-02 19:40:00</td>\n",
              "    </tr>\n",
              "    <tr>\n",
              "      <th>3</th>\n",
              "      <td>204192600</td>\n",
              "      <td>STATEN ISLAND</td>\n",
              "      <td>121</td>\n",
              "      <td>0</td>\n",
              "      <td>PVT HOUSE</td>\n",
              "      <td>True</td>\n",
              "      <td>25-44</td>\n",
              "      <td>M</td>\n",
              "      <td>BLACK</td>\n",
              "      <td>25-44</td>\n",
              "      <td>F</td>\n",
              "      <td>BLACK</td>\n",
              "      <td>938149</td>\n",
              "      <td>171781</td>\n",
              "      <td>40.638064</td>\n",
              "      <td>-74.166108</td>\n",
              "      <td>POINT (-74.16610830199996 40.63806398200006)</td>\n",
              "      <td>2019-10-24 00:52:00</td>\n",
              "    </tr>\n",
              "    <tr>\n",
              "      <th>4</th>\n",
              "      <td>201483468</td>\n",
              "      <td>BRONX</td>\n",
              "      <td>46</td>\n",
              "      <td>0</td>\n",
              "      <td>Unknown</td>\n",
              "      <td>False</td>\n",
              "      <td>25-44</td>\n",
              "      <td>M</td>\n",
              "      <td>BLACK HISPANIC</td>\n",
              "      <td>18-24</td>\n",
              "      <td>M</td>\n",
              "      <td>BLACK</td>\n",
              "      <td>1008224</td>\n",
              "      <td>250621</td>\n",
              "      <td>40.854547</td>\n",
              "      <td>-73.913339</td>\n",
              "      <td>POINT (-73.91333944399999 40.85454734900003)</td>\n",
              "      <td>2019-08-22 18:03:00</td>\n",
              "    </tr>\n",
              "  </tbody>\n",
              "</table>\n",
              "</div>"
            ],
            "text/plain": [
              "   INCIDENT_KEY  ...      OCCUR_DATETIME\n",
              "0     201575314  ... 2019-08-23 22:10:00\n",
              "1     205748546  ... 2019-11-27 15:54:00\n",
              "2     193118596  ... 2019-02-02 19:40:00\n",
              "3     204192600  ... 2019-10-24 00:52:00\n",
              "4     201483468  ... 2019-08-22 18:03:00\n",
              "\n",
              "[5 rows x 18 columns]"
            ]
          },
          "metadata": {
            "tags": []
          },
          "execution_count": 136
        }
      ]
    },
    {
      "cell_type": "markdown",
      "metadata": {
        "id": "qoFjjgQkp3hv"
      },
      "source": [
        "###Create new dateframe to hold the transformed data of the most troublesome Precinct of each boro"
      ]
    },
    {
      "cell_type": "code",
      "metadata": {
        "id": "Ea_UKNAcp3KA"
      },
      "source": [
        "shootings_df = shootings.groupby(['BORO'], as_index=False).agg({\"PRECINCT\": lambda x:x.value_counts().index[0]})\n"
      ],
      "execution_count": null,
      "outputs": []
    },
    {
      "cell_type": "markdown",
      "metadata": {
        "id": "5Ut0Mxj86QBA"
      },
      "source": [
        "Could not find mode opeartion online, so used a lambda to calculate mode and just return the most used value (0 index) in a descending list of most used values"
      ]
    },
    {
      "cell_type": "markdown",
      "metadata": {
        "id": "MEFtlvQY6p0u"
      },
      "source": [
        "###Rename \"PRECINCT\" column in shootings_df to \"WORST_PRECINCT\""
      ]
    },
    {
      "cell_type": "code",
      "metadata": {
        "colab": {
          "base_uri": "https://localhost:8080/",
          "height": 241
        },
        "id": "MUURYiLK6oWx",
        "outputId": "0a33a225-d64d-4c57-9f2b-60a3e9ed7d0f"
      },
      "source": [
        "shootings_df['WORST_PRECINCT'] = shootings_df['PRECINCT']\n",
        "# delete left over column\n",
        "del shootings_df['PRECINCT']\n",
        "shootings_df.head()"
      ],
      "execution_count": null,
      "outputs": [
        {
          "output_type": "execute_result",
          "data": {
            "text/html": [
              "<div>\n",
              "<style scoped>\n",
              "    .dataframe tbody tr th:only-of-type {\n",
              "        vertical-align: middle;\n",
              "    }\n",
              "\n",
              "    .dataframe tbody tr th {\n",
              "        vertical-align: top;\n",
              "    }\n",
              "\n",
              "    .dataframe thead th {\n",
              "        text-align: right;\n",
              "    }\n",
              "</style>\n",
              "<table border=\"1\" class=\"dataframe\">\n",
              "  <thead>\n",
              "    <tr style=\"text-align: right;\">\n",
              "      <th></th>\n",
              "      <th>BORO</th>\n",
              "      <th>WORST_PRECINCT</th>\n",
              "    </tr>\n",
              "  </thead>\n",
              "  <tbody>\n",
              "    <tr>\n",
              "      <th>0</th>\n",
              "      <td>BRONX</td>\n",
              "      <td>47</td>\n",
              "    </tr>\n",
              "    <tr>\n",
              "      <th>1</th>\n",
              "      <td>BROOKLYN</td>\n",
              "      <td>75</td>\n",
              "    </tr>\n",
              "    <tr>\n",
              "      <th>2</th>\n",
              "      <td>MANHATTAN</td>\n",
              "      <td>32</td>\n",
              "    </tr>\n",
              "    <tr>\n",
              "      <th>3</th>\n",
              "      <td>QUEENS</td>\n",
              "      <td>113</td>\n",
              "    </tr>\n",
              "    <tr>\n",
              "      <th>4</th>\n",
              "      <td>STATEN ISLAND</td>\n",
              "      <td>120</td>\n",
              "    </tr>\n",
              "  </tbody>\n",
              "</table>\n",
              "</div>"
            ],
            "text/plain": [
              "            BORO  WORST_PRECINCT\n",
              "0          BRONX              47\n",
              "1       BROOKLYN              75\n",
              "2      MANHATTAN              32\n",
              "3         QUEENS             113\n",
              "4  STATEN ISLAND             120"
            ]
          },
          "metadata": {
            "tags": []
          },
          "execution_count": 138
        }
      ]
    },
    {
      "cell_type": "markdown",
      "metadata": {
        "id": "bykhmaGx6a4W"
      },
      "source": [
        "### Merge shootings_df with shootings"
      ]
    },
    {
      "cell_type": "code",
      "metadata": {
        "id": "PxEQ_27H6Tdt"
      },
      "source": [
        "# make copy first to make sure I am doing this right\n",
        "shooting_copy = shootings.copy"
      ],
      "execution_count": null,
      "outputs": []
    },
    {
      "cell_type": "code",
      "metadata": {
        "colab": {
          "base_uri": "https://localhost:8080/",
          "height": 394
        },
        "id": "x3nqtHat71iP",
        "outputId": "90e6e2a0-0573-45da-c0f2-2bbd858ed386"
      },
      "source": [
        "shootings = shootings.merge(shootings_df, left_on=\"BORO\", right_on='BORO', how='left')\n",
        "shootings.head()"
      ],
      "execution_count": null,
      "outputs": [
        {
          "output_type": "execute_result",
          "data": {
            "text/html": [
              "<div>\n",
              "<style scoped>\n",
              "    .dataframe tbody tr th:only-of-type {\n",
              "        vertical-align: middle;\n",
              "    }\n",
              "\n",
              "    .dataframe tbody tr th {\n",
              "        vertical-align: top;\n",
              "    }\n",
              "\n",
              "    .dataframe thead th {\n",
              "        text-align: right;\n",
              "    }\n",
              "</style>\n",
              "<table border=\"1\" class=\"dataframe\">\n",
              "  <thead>\n",
              "    <tr style=\"text-align: right;\">\n",
              "      <th></th>\n",
              "      <th>INCIDENT_KEY</th>\n",
              "      <th>BORO</th>\n",
              "      <th>PRECINCT</th>\n",
              "      <th>JURISDICTION_CODE</th>\n",
              "      <th>LOCATION_DESC</th>\n",
              "      <th>STATISTICAL_MURDER_FLAG</th>\n",
              "      <th>PERP_AGE_GROUP</th>\n",
              "      <th>PERP_SEX</th>\n",
              "      <th>PERP_RACE</th>\n",
              "      <th>VIC_AGE_GROUP</th>\n",
              "      <th>VIC_SEX</th>\n",
              "      <th>VIC_RACE</th>\n",
              "      <th>X_COORD_CD</th>\n",
              "      <th>Y_COORD_CD</th>\n",
              "      <th>Latitude</th>\n",
              "      <th>Longitude</th>\n",
              "      <th>Lon_Lat</th>\n",
              "      <th>OCCUR_DATETIME</th>\n",
              "      <th>WORST_PRECINCT</th>\n",
              "    </tr>\n",
              "  </thead>\n",
              "  <tbody>\n",
              "    <tr>\n",
              "      <th>0</th>\n",
              "      <td>201575314</td>\n",
              "      <td>QUEENS</td>\n",
              "      <td>103</td>\n",
              "      <td>0</td>\n",
              "      <td>Unknown</td>\n",
              "      <td>False</td>\n",
              "      <td>Unknown</td>\n",
              "      <td>Unknown</td>\n",
              "      <td>Unknown</td>\n",
              "      <td>25-44</td>\n",
              "      <td>M</td>\n",
              "      <td>BLACK</td>\n",
              "      <td>1037451</td>\n",
              "      <td>193561</td>\n",
              "      <td>40.697805</td>\n",
              "      <td>-73.808141</td>\n",
              "      <td>POINT (-73.80814071699996 40.697805308000056)</td>\n",
              "      <td>2019-08-23 22:10:00</td>\n",
              "      <td>113</td>\n",
              "    </tr>\n",
              "    <tr>\n",
              "      <th>1</th>\n",
              "      <td>205748546</td>\n",
              "      <td>BRONX</td>\n",
              "      <td>40</td>\n",
              "      <td>0</td>\n",
              "      <td>Unknown</td>\n",
              "      <td>False</td>\n",
              "      <td>&lt;18</td>\n",
              "      <td>M</td>\n",
              "      <td>BLACK</td>\n",
              "      <td>25-44</td>\n",
              "      <td>F</td>\n",
              "      <td>BLACK</td>\n",
              "      <td>1006789</td>\n",
              "      <td>237559</td>\n",
              "      <td>40.818700</td>\n",
              "      <td>-73.918571</td>\n",
              "      <td>POINT (-73.91857061799993 40.81869973000005)</td>\n",
              "      <td>2019-11-27 15:54:00</td>\n",
              "      <td>47</td>\n",
              "    </tr>\n",
              "    <tr>\n",
              "      <th>2</th>\n",
              "      <td>193118596</td>\n",
              "      <td>MANHATTAN</td>\n",
              "      <td>23</td>\n",
              "      <td>0</td>\n",
              "      <td>Unknown</td>\n",
              "      <td>False</td>\n",
              "      <td>18-24</td>\n",
              "      <td>M</td>\n",
              "      <td>WHITE HISPANIC</td>\n",
              "      <td>18-24</td>\n",
              "      <td>M</td>\n",
              "      <td>BLACK HISPANIC</td>\n",
              "      <td>999347</td>\n",
              "      <td>227795</td>\n",
              "      <td>40.791916</td>\n",
              "      <td>-73.945480</td>\n",
              "      <td>POINT (-73.94547965999999 40.791916091000076)</td>\n",
              "      <td>2019-02-02 19:40:00</td>\n",
              "      <td>32</td>\n",
              "    </tr>\n",
              "    <tr>\n",
              "      <th>3</th>\n",
              "      <td>204192600</td>\n",
              "      <td>STATEN ISLAND</td>\n",
              "      <td>121</td>\n",
              "      <td>0</td>\n",
              "      <td>PVT HOUSE</td>\n",
              "      <td>True</td>\n",
              "      <td>25-44</td>\n",
              "      <td>M</td>\n",
              "      <td>BLACK</td>\n",
              "      <td>25-44</td>\n",
              "      <td>F</td>\n",
              "      <td>BLACK</td>\n",
              "      <td>938149</td>\n",
              "      <td>171781</td>\n",
              "      <td>40.638064</td>\n",
              "      <td>-74.166108</td>\n",
              "      <td>POINT (-74.16610830199996 40.63806398200006)</td>\n",
              "      <td>2019-10-24 00:52:00</td>\n",
              "      <td>120</td>\n",
              "    </tr>\n",
              "    <tr>\n",
              "      <th>4</th>\n",
              "      <td>201483468</td>\n",
              "      <td>BRONX</td>\n",
              "      <td>46</td>\n",
              "      <td>0</td>\n",
              "      <td>Unknown</td>\n",
              "      <td>False</td>\n",
              "      <td>25-44</td>\n",
              "      <td>M</td>\n",
              "      <td>BLACK HISPANIC</td>\n",
              "      <td>18-24</td>\n",
              "      <td>M</td>\n",
              "      <td>BLACK</td>\n",
              "      <td>1008224</td>\n",
              "      <td>250621</td>\n",
              "      <td>40.854547</td>\n",
              "      <td>-73.913339</td>\n",
              "      <td>POINT (-73.91333944399999 40.85454734900003)</td>\n",
              "      <td>2019-08-22 18:03:00</td>\n",
              "      <td>47</td>\n",
              "    </tr>\n",
              "  </tbody>\n",
              "</table>\n",
              "</div>"
            ],
            "text/plain": [
              "   INCIDENT_KEY           BORO  ...      OCCUR_DATETIME WORST_PRECINCT\n",
              "0     201575314         QUEENS  ... 2019-08-23 22:10:00            113\n",
              "1     205748546          BRONX  ... 2019-11-27 15:54:00             47\n",
              "2     193118596      MANHATTAN  ... 2019-02-02 19:40:00             32\n",
              "3     204192600  STATEN ISLAND  ... 2019-10-24 00:52:00            120\n",
              "4     201483468          BRONX  ... 2019-08-22 18:03:00             47\n",
              "\n",
              "[5 rows x 19 columns]"
            ]
          },
          "metadata": {
            "tags": []
          },
          "execution_count": 140
        }
      ]
    },
    {
      "cell_type": "markdown",
      "metadata": {
        "id": "ex5ZTZBQ8zuY"
      },
      "source": [
        "Alright, let's go, it worked. Don't need the copy now."
      ]
    },
    {
      "cell_type": "markdown",
      "metadata": {
        "id": "Zsqb70re9Isw"
      },
      "source": [
        "###Find most toublesome group of each Boro\n",
        "\n",
        "\n",
        "\n"
      ]
    },
    {
      "cell_type": "code",
      "metadata": {
        "colab": {
          "base_uri": "https://localhost:8080/",
          "height": 241
        },
        "id": "zG8Lu4_F-o1n",
        "outputId": "3792a468-70d8-4319-b246-35c5a6929a98"
      },
      "source": [
        "troublesome_group_df = shootings.groupby(['BORO'], as_index=False).agg({\"PERP_AGE_GROUP\": lambda x:x.value_counts().index[0]})\n",
        "troublesome_group_df.head()"
      ],
      "execution_count": null,
      "outputs": [
        {
          "output_type": "execute_result",
          "data": {
            "text/html": [
              "<div>\n",
              "<style scoped>\n",
              "    .dataframe tbody tr th:only-of-type {\n",
              "        vertical-align: middle;\n",
              "    }\n",
              "\n",
              "    .dataframe tbody tr th {\n",
              "        vertical-align: top;\n",
              "    }\n",
              "\n",
              "    .dataframe thead th {\n",
              "        text-align: right;\n",
              "    }\n",
              "</style>\n",
              "<table border=\"1\" class=\"dataframe\">\n",
              "  <thead>\n",
              "    <tr style=\"text-align: right;\">\n",
              "      <th></th>\n",
              "      <th>BORO</th>\n",
              "      <th>PERP_AGE_GROUP</th>\n",
              "    </tr>\n",
              "  </thead>\n",
              "  <tbody>\n",
              "    <tr>\n",
              "      <th>0</th>\n",
              "      <td>BRONX</td>\n",
              "      <td>Unknown</td>\n",
              "    </tr>\n",
              "    <tr>\n",
              "      <th>1</th>\n",
              "      <td>BROOKLYN</td>\n",
              "      <td>Unknown</td>\n",
              "    </tr>\n",
              "    <tr>\n",
              "      <th>2</th>\n",
              "      <td>MANHATTAN</td>\n",
              "      <td>Unknown</td>\n",
              "    </tr>\n",
              "    <tr>\n",
              "      <th>3</th>\n",
              "      <td>QUEENS</td>\n",
              "      <td>Unknown</td>\n",
              "    </tr>\n",
              "    <tr>\n",
              "      <th>4</th>\n",
              "      <td>STATEN ISLAND</td>\n",
              "      <td>18-24</td>\n",
              "    </tr>\n",
              "  </tbody>\n",
              "</table>\n",
              "</div>"
            ],
            "text/plain": [
              "            BORO PERP_AGE_GROUP\n",
              "0          BRONX        Unknown\n",
              "1       BROOKLYN        Unknown\n",
              "2      MANHATTAN        Unknown\n",
              "3         QUEENS        Unknown\n",
              "4  STATEN ISLAND          18-24"
            ]
          },
          "metadata": {
            "tags": []
          },
          "execution_count": 141
        }
      ]
    },
    {
      "cell_type": "markdown",
      "metadata": {
        "id": "XUZSuyWD-9UQ"
      },
      "source": [
        "It looks like this returns mainly Unknown for the groups as there seemed to be a lot of NaN values in this column. Let's look at removing those to get the next one."
      ]
    },
    {
      "cell_type": "code",
      "metadata": {
        "colab": {
          "base_uri": "https://localhost:8080/",
          "height": 241
        },
        "id": "yJHJjXef_VUq",
        "outputId": "ab05016f-1f20-4e64-cb0b-2d6940e56594"
      },
      "source": [
        "troublesome_group_df = shootings.groupby(['BORO'], as_index=False).agg({\"PERP_AGE_GROUP\": lambda x: x.value_counts().index[0] if x.value_counts().index[0] != \"Unknown\" else x.value_counts().index[1]})\n",
        "troublesome_group_df.head()"
      ],
      "execution_count": null,
      "outputs": [
        {
          "output_type": "execute_result",
          "data": {
            "text/html": [
              "<div>\n",
              "<style scoped>\n",
              "    .dataframe tbody tr th:only-of-type {\n",
              "        vertical-align: middle;\n",
              "    }\n",
              "\n",
              "    .dataframe tbody tr th {\n",
              "        vertical-align: top;\n",
              "    }\n",
              "\n",
              "    .dataframe thead th {\n",
              "        text-align: right;\n",
              "    }\n",
              "</style>\n",
              "<table border=\"1\" class=\"dataframe\">\n",
              "  <thead>\n",
              "    <tr style=\"text-align: right;\">\n",
              "      <th></th>\n",
              "      <th>BORO</th>\n",
              "      <th>PERP_AGE_GROUP</th>\n",
              "    </tr>\n",
              "  </thead>\n",
              "  <tbody>\n",
              "    <tr>\n",
              "      <th>0</th>\n",
              "      <td>BRONX</td>\n",
              "      <td>18-24</td>\n",
              "    </tr>\n",
              "    <tr>\n",
              "      <th>1</th>\n",
              "      <td>BROOKLYN</td>\n",
              "      <td>18-24</td>\n",
              "    </tr>\n",
              "    <tr>\n",
              "      <th>2</th>\n",
              "      <td>MANHATTAN</td>\n",
              "      <td>18-24</td>\n",
              "    </tr>\n",
              "    <tr>\n",
              "      <th>3</th>\n",
              "      <td>QUEENS</td>\n",
              "      <td>18-24</td>\n",
              "    </tr>\n",
              "    <tr>\n",
              "      <th>4</th>\n",
              "      <td>STATEN ISLAND</td>\n",
              "      <td>18-24</td>\n",
              "    </tr>\n",
              "  </tbody>\n",
              "</table>\n",
              "</div>"
            ],
            "text/plain": [
              "            BORO PERP_AGE_GROUP\n",
              "0          BRONX          18-24\n",
              "1       BROOKLYN          18-24\n",
              "2      MANHATTAN          18-24\n",
              "3         QUEENS          18-24\n",
              "4  STATEN ISLAND          18-24"
            ]
          },
          "metadata": {
            "tags": []
          },
          "execution_count": 142
        }
      ]
    },
    {
      "cell_type": "markdown",
      "metadata": {
        "id": "QBsisE0CBmYZ"
      },
      "source": [
        "Alright, looks like mainly young people. Makes sense, honestly."
      ]
    },
    {
      "cell_type": "markdown",
      "metadata": {
        "id": "GbLW5V4vBy3d"
      },
      "source": [
        "###Merge troublesome_group_df with shootings"
      ]
    },
    {
      "cell_type": "code",
      "metadata": {
        "colab": {
          "base_uri": "https://localhost:8080/",
          "height": 394
        },
        "id": "V_PyRmZdBt4D",
        "outputId": "94793a63-bfc3-4c4d-cfed-785057e93607"
      },
      "source": [
        "shootings = shootings.merge(troublesome_group_df, left_on=\"BORO\", right_on='BORO', how='left')\n",
        "shootings.head()"
      ],
      "execution_count": null,
      "outputs": [
        {
          "output_type": "execute_result",
          "data": {
            "text/html": [
              "<div>\n",
              "<style scoped>\n",
              "    .dataframe tbody tr th:only-of-type {\n",
              "        vertical-align: middle;\n",
              "    }\n",
              "\n",
              "    .dataframe tbody tr th {\n",
              "        vertical-align: top;\n",
              "    }\n",
              "\n",
              "    .dataframe thead th {\n",
              "        text-align: right;\n",
              "    }\n",
              "</style>\n",
              "<table border=\"1\" class=\"dataframe\">\n",
              "  <thead>\n",
              "    <tr style=\"text-align: right;\">\n",
              "      <th></th>\n",
              "      <th>INCIDENT_KEY</th>\n",
              "      <th>BORO</th>\n",
              "      <th>PRECINCT</th>\n",
              "      <th>JURISDICTION_CODE</th>\n",
              "      <th>LOCATION_DESC</th>\n",
              "      <th>STATISTICAL_MURDER_FLAG</th>\n",
              "      <th>PERP_AGE_GROUP_x</th>\n",
              "      <th>PERP_SEX</th>\n",
              "      <th>PERP_RACE</th>\n",
              "      <th>VIC_AGE_GROUP</th>\n",
              "      <th>VIC_SEX</th>\n",
              "      <th>VIC_RACE</th>\n",
              "      <th>X_COORD_CD</th>\n",
              "      <th>Y_COORD_CD</th>\n",
              "      <th>Latitude</th>\n",
              "      <th>Longitude</th>\n",
              "      <th>Lon_Lat</th>\n",
              "      <th>OCCUR_DATETIME</th>\n",
              "      <th>WORST_PRECINCT</th>\n",
              "      <th>PERP_AGE_GROUP_y</th>\n",
              "    </tr>\n",
              "  </thead>\n",
              "  <tbody>\n",
              "    <tr>\n",
              "      <th>0</th>\n",
              "      <td>201575314</td>\n",
              "      <td>QUEENS</td>\n",
              "      <td>103</td>\n",
              "      <td>0</td>\n",
              "      <td>Unknown</td>\n",
              "      <td>False</td>\n",
              "      <td>Unknown</td>\n",
              "      <td>Unknown</td>\n",
              "      <td>Unknown</td>\n",
              "      <td>25-44</td>\n",
              "      <td>M</td>\n",
              "      <td>BLACK</td>\n",
              "      <td>1037451</td>\n",
              "      <td>193561</td>\n",
              "      <td>40.697805</td>\n",
              "      <td>-73.808141</td>\n",
              "      <td>POINT (-73.80814071699996 40.697805308000056)</td>\n",
              "      <td>2019-08-23 22:10:00</td>\n",
              "      <td>113</td>\n",
              "      <td>18-24</td>\n",
              "    </tr>\n",
              "    <tr>\n",
              "      <th>1</th>\n",
              "      <td>205748546</td>\n",
              "      <td>BRONX</td>\n",
              "      <td>40</td>\n",
              "      <td>0</td>\n",
              "      <td>Unknown</td>\n",
              "      <td>False</td>\n",
              "      <td>&lt;18</td>\n",
              "      <td>M</td>\n",
              "      <td>BLACK</td>\n",
              "      <td>25-44</td>\n",
              "      <td>F</td>\n",
              "      <td>BLACK</td>\n",
              "      <td>1006789</td>\n",
              "      <td>237559</td>\n",
              "      <td>40.818700</td>\n",
              "      <td>-73.918571</td>\n",
              "      <td>POINT (-73.91857061799993 40.81869973000005)</td>\n",
              "      <td>2019-11-27 15:54:00</td>\n",
              "      <td>47</td>\n",
              "      <td>18-24</td>\n",
              "    </tr>\n",
              "    <tr>\n",
              "      <th>2</th>\n",
              "      <td>193118596</td>\n",
              "      <td>MANHATTAN</td>\n",
              "      <td>23</td>\n",
              "      <td>0</td>\n",
              "      <td>Unknown</td>\n",
              "      <td>False</td>\n",
              "      <td>18-24</td>\n",
              "      <td>M</td>\n",
              "      <td>WHITE HISPANIC</td>\n",
              "      <td>18-24</td>\n",
              "      <td>M</td>\n",
              "      <td>BLACK HISPANIC</td>\n",
              "      <td>999347</td>\n",
              "      <td>227795</td>\n",
              "      <td>40.791916</td>\n",
              "      <td>-73.945480</td>\n",
              "      <td>POINT (-73.94547965999999 40.791916091000076)</td>\n",
              "      <td>2019-02-02 19:40:00</td>\n",
              "      <td>32</td>\n",
              "      <td>18-24</td>\n",
              "    </tr>\n",
              "    <tr>\n",
              "      <th>3</th>\n",
              "      <td>204192600</td>\n",
              "      <td>STATEN ISLAND</td>\n",
              "      <td>121</td>\n",
              "      <td>0</td>\n",
              "      <td>PVT HOUSE</td>\n",
              "      <td>True</td>\n",
              "      <td>25-44</td>\n",
              "      <td>M</td>\n",
              "      <td>BLACK</td>\n",
              "      <td>25-44</td>\n",
              "      <td>F</td>\n",
              "      <td>BLACK</td>\n",
              "      <td>938149</td>\n",
              "      <td>171781</td>\n",
              "      <td>40.638064</td>\n",
              "      <td>-74.166108</td>\n",
              "      <td>POINT (-74.16610830199996 40.63806398200006)</td>\n",
              "      <td>2019-10-24 00:52:00</td>\n",
              "      <td>120</td>\n",
              "      <td>18-24</td>\n",
              "    </tr>\n",
              "    <tr>\n",
              "      <th>4</th>\n",
              "      <td>201483468</td>\n",
              "      <td>BRONX</td>\n",
              "      <td>46</td>\n",
              "      <td>0</td>\n",
              "      <td>Unknown</td>\n",
              "      <td>False</td>\n",
              "      <td>25-44</td>\n",
              "      <td>M</td>\n",
              "      <td>BLACK HISPANIC</td>\n",
              "      <td>18-24</td>\n",
              "      <td>M</td>\n",
              "      <td>BLACK</td>\n",
              "      <td>1008224</td>\n",
              "      <td>250621</td>\n",
              "      <td>40.854547</td>\n",
              "      <td>-73.913339</td>\n",
              "      <td>POINT (-73.91333944399999 40.85454734900003)</td>\n",
              "      <td>2019-08-22 18:03:00</td>\n",
              "      <td>47</td>\n",
              "      <td>18-24</td>\n",
              "    </tr>\n",
              "  </tbody>\n",
              "</table>\n",
              "</div>"
            ],
            "text/plain": [
              "   INCIDENT_KEY           BORO  ...  WORST_PRECINCT PERP_AGE_GROUP_y\n",
              "0     201575314         QUEENS  ...             113            18-24\n",
              "1     205748546          BRONX  ...              47            18-24\n",
              "2     193118596      MANHATTAN  ...              32            18-24\n",
              "3     204192600  STATEN ISLAND  ...             120            18-24\n",
              "4     201483468          BRONX  ...              47            18-24\n",
              "\n",
              "[5 rows x 20 columns]"
            ]
          },
          "metadata": {
            "tags": []
          },
          "execution_count": 143
        }
      ]
    },
    {
      "cell_type": "markdown",
      "metadata": {
        "id": "_u9mfEU6CJkO"
      },
      "source": [
        "Forgot to rename columns, whoops."
      ]
    },
    {
      "cell_type": "code",
      "metadata": {
        "id": "nwfUynSoCM0q"
      },
      "source": [
        "shootings = shootings.rename(columns={\"PERP_AGE_GROUP_y\": \"MOST_CONVICTED_AGE\", \"PERP_AGE_GROUP_x\": \"PERP_AGE_GROUP\"})"
      ],
      "execution_count": null,
      "outputs": []
    },
    {
      "cell_type": "markdown",
      "metadata": {
        "id": "h4aTG-s2EzvX"
      },
      "source": [
        "Had a little oops where PERP_AGE_GROUP was returning twice as a duplicate column. The fix is below."
      ]
    },
    {
      "cell_type": "code",
      "metadata": {
        "colab": {
          "base_uri": "https://localhost:8080/",
          "height": 394
        },
        "id": "urlsFsXCD8gb",
        "outputId": "a624ecf6-ca73-4149-a23e-f6f5f7ce8ec7"
      },
      "source": [
        "shootings = shootings.loc[:,~shootings.columns.duplicated()]\n",
        "shootings.head()"
      ],
      "execution_count": null,
      "outputs": [
        {
          "output_type": "execute_result",
          "data": {
            "text/html": [
              "<div>\n",
              "<style scoped>\n",
              "    .dataframe tbody tr th:only-of-type {\n",
              "        vertical-align: middle;\n",
              "    }\n",
              "\n",
              "    .dataframe tbody tr th {\n",
              "        vertical-align: top;\n",
              "    }\n",
              "\n",
              "    .dataframe thead th {\n",
              "        text-align: right;\n",
              "    }\n",
              "</style>\n",
              "<table border=\"1\" class=\"dataframe\">\n",
              "  <thead>\n",
              "    <tr style=\"text-align: right;\">\n",
              "      <th></th>\n",
              "      <th>INCIDENT_KEY</th>\n",
              "      <th>BORO</th>\n",
              "      <th>PRECINCT</th>\n",
              "      <th>JURISDICTION_CODE</th>\n",
              "      <th>LOCATION_DESC</th>\n",
              "      <th>STATISTICAL_MURDER_FLAG</th>\n",
              "      <th>PERP_AGE_GROUP</th>\n",
              "      <th>PERP_SEX</th>\n",
              "      <th>PERP_RACE</th>\n",
              "      <th>VIC_AGE_GROUP</th>\n",
              "      <th>VIC_SEX</th>\n",
              "      <th>VIC_RACE</th>\n",
              "      <th>X_COORD_CD</th>\n",
              "      <th>Y_COORD_CD</th>\n",
              "      <th>Latitude</th>\n",
              "      <th>Longitude</th>\n",
              "      <th>Lon_Lat</th>\n",
              "      <th>OCCUR_DATETIME</th>\n",
              "      <th>WORST_PRECINCT</th>\n",
              "      <th>MOST_CONVICTED_AGE</th>\n",
              "    </tr>\n",
              "  </thead>\n",
              "  <tbody>\n",
              "    <tr>\n",
              "      <th>0</th>\n",
              "      <td>201575314</td>\n",
              "      <td>QUEENS</td>\n",
              "      <td>103</td>\n",
              "      <td>0</td>\n",
              "      <td>Unknown</td>\n",
              "      <td>False</td>\n",
              "      <td>Unknown</td>\n",
              "      <td>Unknown</td>\n",
              "      <td>Unknown</td>\n",
              "      <td>25-44</td>\n",
              "      <td>M</td>\n",
              "      <td>BLACK</td>\n",
              "      <td>1037451</td>\n",
              "      <td>193561</td>\n",
              "      <td>40.697805</td>\n",
              "      <td>-73.808141</td>\n",
              "      <td>POINT (-73.80814071699996 40.697805308000056)</td>\n",
              "      <td>2019-08-23 22:10:00</td>\n",
              "      <td>113</td>\n",
              "      <td>18-24</td>\n",
              "    </tr>\n",
              "    <tr>\n",
              "      <th>1</th>\n",
              "      <td>205748546</td>\n",
              "      <td>BRONX</td>\n",
              "      <td>40</td>\n",
              "      <td>0</td>\n",
              "      <td>Unknown</td>\n",
              "      <td>False</td>\n",
              "      <td>&lt;18</td>\n",
              "      <td>M</td>\n",
              "      <td>BLACK</td>\n",
              "      <td>25-44</td>\n",
              "      <td>F</td>\n",
              "      <td>BLACK</td>\n",
              "      <td>1006789</td>\n",
              "      <td>237559</td>\n",
              "      <td>40.818700</td>\n",
              "      <td>-73.918571</td>\n",
              "      <td>POINT (-73.91857061799993 40.81869973000005)</td>\n",
              "      <td>2019-11-27 15:54:00</td>\n",
              "      <td>47</td>\n",
              "      <td>18-24</td>\n",
              "    </tr>\n",
              "    <tr>\n",
              "      <th>2</th>\n",
              "      <td>193118596</td>\n",
              "      <td>MANHATTAN</td>\n",
              "      <td>23</td>\n",
              "      <td>0</td>\n",
              "      <td>Unknown</td>\n",
              "      <td>False</td>\n",
              "      <td>18-24</td>\n",
              "      <td>M</td>\n",
              "      <td>WHITE HISPANIC</td>\n",
              "      <td>18-24</td>\n",
              "      <td>M</td>\n",
              "      <td>BLACK HISPANIC</td>\n",
              "      <td>999347</td>\n",
              "      <td>227795</td>\n",
              "      <td>40.791916</td>\n",
              "      <td>-73.945480</td>\n",
              "      <td>POINT (-73.94547965999999 40.791916091000076)</td>\n",
              "      <td>2019-02-02 19:40:00</td>\n",
              "      <td>32</td>\n",
              "      <td>18-24</td>\n",
              "    </tr>\n",
              "    <tr>\n",
              "      <th>3</th>\n",
              "      <td>204192600</td>\n",
              "      <td>STATEN ISLAND</td>\n",
              "      <td>121</td>\n",
              "      <td>0</td>\n",
              "      <td>PVT HOUSE</td>\n",
              "      <td>True</td>\n",
              "      <td>25-44</td>\n",
              "      <td>M</td>\n",
              "      <td>BLACK</td>\n",
              "      <td>25-44</td>\n",
              "      <td>F</td>\n",
              "      <td>BLACK</td>\n",
              "      <td>938149</td>\n",
              "      <td>171781</td>\n",
              "      <td>40.638064</td>\n",
              "      <td>-74.166108</td>\n",
              "      <td>POINT (-74.16610830199996 40.63806398200006)</td>\n",
              "      <td>2019-10-24 00:52:00</td>\n",
              "      <td>120</td>\n",
              "      <td>18-24</td>\n",
              "    </tr>\n",
              "    <tr>\n",
              "      <th>4</th>\n",
              "      <td>201483468</td>\n",
              "      <td>BRONX</td>\n",
              "      <td>46</td>\n",
              "      <td>0</td>\n",
              "      <td>Unknown</td>\n",
              "      <td>False</td>\n",
              "      <td>25-44</td>\n",
              "      <td>M</td>\n",
              "      <td>BLACK HISPANIC</td>\n",
              "      <td>18-24</td>\n",
              "      <td>M</td>\n",
              "      <td>BLACK</td>\n",
              "      <td>1008224</td>\n",
              "      <td>250621</td>\n",
              "      <td>40.854547</td>\n",
              "      <td>-73.913339</td>\n",
              "      <td>POINT (-73.91333944399999 40.85454734900003)</td>\n",
              "      <td>2019-08-22 18:03:00</td>\n",
              "      <td>47</td>\n",
              "      <td>18-24</td>\n",
              "    </tr>\n",
              "  </tbody>\n",
              "</table>\n",
              "</div>"
            ],
            "text/plain": [
              "   INCIDENT_KEY           BORO  ...  WORST_PRECINCT MOST_CONVICTED_AGE\n",
              "0     201575314         QUEENS  ...             113              18-24\n",
              "1     205748546          BRONX  ...              47              18-24\n",
              "2     193118596      MANHATTAN  ...              32              18-24\n",
              "3     204192600  STATEN ISLAND  ...             120              18-24\n",
              "4     201483468          BRONX  ...              47              18-24\n",
              "\n",
              "[5 rows x 20 columns]"
            ]
          },
          "metadata": {
            "tags": []
          },
          "execution_count": 145
        }
      ]
    },
    {
      "cell_type": "markdown",
      "metadata": {
        "id": "30vTcq7kFY0Q"
      },
      "source": [
        "### Find the race that causes the most crimes in each Boro"
      ]
    },
    {
      "cell_type": "code",
      "metadata": {
        "colab": {
          "base_uri": "https://localhost:8080/",
          "height": 241
        },
        "id": "rmh4y8pYGa3q",
        "outputId": "3b38c888-e632-4124-9b50-54655fec32be"
      },
      "source": [
        "race_group_df = shootings.groupby(['BORO'], as_index=False).agg({\"PERP_RACE\": lambda x: x.value_counts().index[0] if x.value_counts().index[0] != \"Unknown\" else x.value_counts().index[1]})\n",
        "race_group_df.head()"
      ],
      "execution_count": null,
      "outputs": [
        {
          "output_type": "execute_result",
          "data": {
            "text/html": [
              "<div>\n",
              "<style scoped>\n",
              "    .dataframe tbody tr th:only-of-type {\n",
              "        vertical-align: middle;\n",
              "    }\n",
              "\n",
              "    .dataframe tbody tr th {\n",
              "        vertical-align: top;\n",
              "    }\n",
              "\n",
              "    .dataframe thead th {\n",
              "        text-align: right;\n",
              "    }\n",
              "</style>\n",
              "<table border=\"1\" class=\"dataframe\">\n",
              "  <thead>\n",
              "    <tr style=\"text-align: right;\">\n",
              "      <th></th>\n",
              "      <th>BORO</th>\n",
              "      <th>PERP_RACE</th>\n",
              "    </tr>\n",
              "  </thead>\n",
              "  <tbody>\n",
              "    <tr>\n",
              "      <th>0</th>\n",
              "      <td>BRONX</td>\n",
              "      <td>BLACK</td>\n",
              "    </tr>\n",
              "    <tr>\n",
              "      <th>1</th>\n",
              "      <td>BROOKLYN</td>\n",
              "      <td>BLACK</td>\n",
              "    </tr>\n",
              "    <tr>\n",
              "      <th>2</th>\n",
              "      <td>MANHATTAN</td>\n",
              "      <td>BLACK</td>\n",
              "    </tr>\n",
              "    <tr>\n",
              "      <th>3</th>\n",
              "      <td>QUEENS</td>\n",
              "      <td>BLACK</td>\n",
              "    </tr>\n",
              "    <tr>\n",
              "      <th>4</th>\n",
              "      <td>STATEN ISLAND</td>\n",
              "      <td>BLACK</td>\n",
              "    </tr>\n",
              "  </tbody>\n",
              "</table>\n",
              "</div>"
            ],
            "text/plain": [
              "            BORO PERP_RACE\n",
              "0          BRONX     BLACK\n",
              "1       BROOKLYN     BLACK\n",
              "2      MANHATTAN     BLACK\n",
              "3         QUEENS     BLACK\n",
              "4  STATEN ISLAND     BLACK"
            ]
          },
          "metadata": {
            "tags": []
          },
          "execution_count": 146
        }
      ]
    },
    {
      "cell_type": "markdown",
      "metadata": {
        "id": "nbdjo2GpZBc3"
      },
      "source": [
        "Rename column"
      ]
    },
    {
      "cell_type": "code",
      "metadata": {
        "colab": {
          "base_uri": "https://localhost:8080/",
          "height": 241
        },
        "id": "zwNZEVXzZN2G",
        "outputId": "606c8e0a-28c4-40e0-c283-edddceb45410"
      },
      "source": [
        "race_group_df.columns = ['BORO', 'MOST_PERP_RACE']\n",
        "race_group_df"
      ],
      "execution_count": null,
      "outputs": [
        {
          "output_type": "execute_result",
          "data": {
            "text/html": [
              "<div>\n",
              "<style scoped>\n",
              "    .dataframe tbody tr th:only-of-type {\n",
              "        vertical-align: middle;\n",
              "    }\n",
              "\n",
              "    .dataframe tbody tr th {\n",
              "        vertical-align: top;\n",
              "    }\n",
              "\n",
              "    .dataframe thead th {\n",
              "        text-align: right;\n",
              "    }\n",
              "</style>\n",
              "<table border=\"1\" class=\"dataframe\">\n",
              "  <thead>\n",
              "    <tr style=\"text-align: right;\">\n",
              "      <th></th>\n",
              "      <th>BORO</th>\n",
              "      <th>MOST_PERP_RACE</th>\n",
              "    </tr>\n",
              "  </thead>\n",
              "  <tbody>\n",
              "    <tr>\n",
              "      <th>0</th>\n",
              "      <td>BRONX</td>\n",
              "      <td>BLACK</td>\n",
              "    </tr>\n",
              "    <tr>\n",
              "      <th>1</th>\n",
              "      <td>BROOKLYN</td>\n",
              "      <td>BLACK</td>\n",
              "    </tr>\n",
              "    <tr>\n",
              "      <th>2</th>\n",
              "      <td>MANHATTAN</td>\n",
              "      <td>BLACK</td>\n",
              "    </tr>\n",
              "    <tr>\n",
              "      <th>3</th>\n",
              "      <td>QUEENS</td>\n",
              "      <td>BLACK</td>\n",
              "    </tr>\n",
              "    <tr>\n",
              "      <th>4</th>\n",
              "      <td>STATEN ISLAND</td>\n",
              "      <td>BLACK</td>\n",
              "    </tr>\n",
              "  </tbody>\n",
              "</table>\n",
              "</div>"
            ],
            "text/plain": [
              "            BORO MOST_PERP_RACE\n",
              "0          BRONX          BLACK\n",
              "1       BROOKLYN          BLACK\n",
              "2      MANHATTAN          BLACK\n",
              "3         QUEENS          BLACK\n",
              "4  STATEN ISLAND          BLACK"
            ]
          },
          "metadata": {
            "tags": []
          },
          "execution_count": 147
        }
      ]
    },
    {
      "cell_type": "markdown",
      "metadata": {
        "id": "wSmeue5FpXl_"
      },
      "source": [
        "Now to Merge them"
      ]
    },
    {
      "cell_type": "code",
      "metadata": {
        "colab": {
          "base_uri": "https://localhost:8080/",
          "height": 847
        },
        "id": "pcnF_EyTpaHQ",
        "outputId": "6947f327-c992-4a63-dbf1-bae0e69f5a26"
      },
      "source": [
        "shootings = shootings.merge(race_group_df, left_on=\"BORO\", right_on='BORO', how='left')\n",
        "shootings"
      ],
      "execution_count": null,
      "outputs": [
        {
          "output_type": "execute_result",
          "data": {
            "text/html": [
              "<div>\n",
              "<style scoped>\n",
              "    .dataframe tbody tr th:only-of-type {\n",
              "        vertical-align: middle;\n",
              "    }\n",
              "\n",
              "    .dataframe tbody tr th {\n",
              "        vertical-align: top;\n",
              "    }\n",
              "\n",
              "    .dataframe thead th {\n",
              "        text-align: right;\n",
              "    }\n",
              "</style>\n",
              "<table border=\"1\" class=\"dataframe\">\n",
              "  <thead>\n",
              "    <tr style=\"text-align: right;\">\n",
              "      <th></th>\n",
              "      <th>INCIDENT_KEY</th>\n",
              "      <th>BORO</th>\n",
              "      <th>PRECINCT</th>\n",
              "      <th>JURISDICTION_CODE</th>\n",
              "      <th>LOCATION_DESC</th>\n",
              "      <th>STATISTICAL_MURDER_FLAG</th>\n",
              "      <th>PERP_AGE_GROUP</th>\n",
              "      <th>PERP_SEX</th>\n",
              "      <th>PERP_RACE</th>\n",
              "      <th>VIC_AGE_GROUP</th>\n",
              "      <th>VIC_SEX</th>\n",
              "      <th>VIC_RACE</th>\n",
              "      <th>X_COORD_CD</th>\n",
              "      <th>Y_COORD_CD</th>\n",
              "      <th>Latitude</th>\n",
              "      <th>Longitude</th>\n",
              "      <th>Lon_Lat</th>\n",
              "      <th>OCCUR_DATETIME</th>\n",
              "      <th>WORST_PRECINCT</th>\n",
              "      <th>MOST_CONVICTED_AGE</th>\n",
              "      <th>MOST_PERP_RACE</th>\n",
              "    </tr>\n",
              "  </thead>\n",
              "  <tbody>\n",
              "    <tr>\n",
              "      <th>0</th>\n",
              "      <td>201575314</td>\n",
              "      <td>QUEENS</td>\n",
              "      <td>103</td>\n",
              "      <td>0</td>\n",
              "      <td>Unknown</td>\n",
              "      <td>False</td>\n",
              "      <td>Unknown</td>\n",
              "      <td>Unknown</td>\n",
              "      <td>Unknown</td>\n",
              "      <td>25-44</td>\n",
              "      <td>M</td>\n",
              "      <td>BLACK</td>\n",
              "      <td>1037451</td>\n",
              "      <td>193561</td>\n",
              "      <td>40.697805</td>\n",
              "      <td>-73.808141</td>\n",
              "      <td>POINT (-73.80814071699996 40.697805308000056)</td>\n",
              "      <td>2019-08-23 22:10:00</td>\n",
              "      <td>113</td>\n",
              "      <td>18-24</td>\n",
              "      <td>BLACK</td>\n",
              "    </tr>\n",
              "    <tr>\n",
              "      <th>1</th>\n",
              "      <td>205748546</td>\n",
              "      <td>BRONX</td>\n",
              "      <td>40</td>\n",
              "      <td>0</td>\n",
              "      <td>Unknown</td>\n",
              "      <td>False</td>\n",
              "      <td>&lt;18</td>\n",
              "      <td>M</td>\n",
              "      <td>BLACK</td>\n",
              "      <td>25-44</td>\n",
              "      <td>F</td>\n",
              "      <td>BLACK</td>\n",
              "      <td>1006789</td>\n",
              "      <td>237559</td>\n",
              "      <td>40.818700</td>\n",
              "      <td>-73.918571</td>\n",
              "      <td>POINT (-73.91857061799993 40.81869973000005)</td>\n",
              "      <td>2019-11-27 15:54:00</td>\n",
              "      <td>47</td>\n",
              "      <td>18-24</td>\n",
              "      <td>BLACK</td>\n",
              "    </tr>\n",
              "    <tr>\n",
              "      <th>2</th>\n",
              "      <td>193118596</td>\n",
              "      <td>MANHATTAN</td>\n",
              "      <td>23</td>\n",
              "      <td>0</td>\n",
              "      <td>Unknown</td>\n",
              "      <td>False</td>\n",
              "      <td>18-24</td>\n",
              "      <td>M</td>\n",
              "      <td>WHITE HISPANIC</td>\n",
              "      <td>18-24</td>\n",
              "      <td>M</td>\n",
              "      <td>BLACK HISPANIC</td>\n",
              "      <td>999347</td>\n",
              "      <td>227795</td>\n",
              "      <td>40.791916</td>\n",
              "      <td>-73.945480</td>\n",
              "      <td>POINT (-73.94547965999999 40.791916091000076)</td>\n",
              "      <td>2019-02-02 19:40:00</td>\n",
              "      <td>32</td>\n",
              "      <td>18-24</td>\n",
              "      <td>BLACK</td>\n",
              "    </tr>\n",
              "    <tr>\n",
              "      <th>3</th>\n",
              "      <td>204192600</td>\n",
              "      <td>STATEN ISLAND</td>\n",
              "      <td>121</td>\n",
              "      <td>0</td>\n",
              "      <td>PVT HOUSE</td>\n",
              "      <td>True</td>\n",
              "      <td>25-44</td>\n",
              "      <td>M</td>\n",
              "      <td>BLACK</td>\n",
              "      <td>25-44</td>\n",
              "      <td>F</td>\n",
              "      <td>BLACK</td>\n",
              "      <td>938149</td>\n",
              "      <td>171781</td>\n",
              "      <td>40.638064</td>\n",
              "      <td>-74.166108</td>\n",
              "      <td>POINT (-74.16610830199996 40.63806398200006)</td>\n",
              "      <td>2019-10-24 00:52:00</td>\n",
              "      <td>120</td>\n",
              "      <td>18-24</td>\n",
              "      <td>BLACK</td>\n",
              "    </tr>\n",
              "    <tr>\n",
              "      <th>4</th>\n",
              "      <td>201483468</td>\n",
              "      <td>BRONX</td>\n",
              "      <td>46</td>\n",
              "      <td>0</td>\n",
              "      <td>Unknown</td>\n",
              "      <td>False</td>\n",
              "      <td>25-44</td>\n",
              "      <td>M</td>\n",
              "      <td>BLACK HISPANIC</td>\n",
              "      <td>18-24</td>\n",
              "      <td>M</td>\n",
              "      <td>BLACK</td>\n",
              "      <td>1008224</td>\n",
              "      <td>250621</td>\n",
              "      <td>40.854547</td>\n",
              "      <td>-73.913339</td>\n",
              "      <td>POINT (-73.91333944399999 40.85454734900003)</td>\n",
              "      <td>2019-08-22 18:03:00</td>\n",
              "      <td>47</td>\n",
              "      <td>18-24</td>\n",
              "      <td>BLACK</td>\n",
              "    </tr>\n",
              "    <tr>\n",
              "      <th>...</th>\n",
              "      <td>...</td>\n",
              "      <td>...</td>\n",
              "      <td>...</td>\n",
              "      <td>...</td>\n",
              "      <td>...</td>\n",
              "      <td>...</td>\n",
              "      <td>...</td>\n",
              "      <td>...</td>\n",
              "      <td>...</td>\n",
              "      <td>...</td>\n",
              "      <td>...</td>\n",
              "      <td>...</td>\n",
              "      <td>...</td>\n",
              "      <td>...</td>\n",
              "      <td>...</td>\n",
              "      <td>...</td>\n",
              "      <td>...</td>\n",
              "      <td>...</td>\n",
              "      <td>...</td>\n",
              "      <td>...</td>\n",
              "      <td>...</td>\n",
              "    </tr>\n",
              "    <tr>\n",
              "      <th>17026</th>\n",
              "      <td>142091388</td>\n",
              "      <td>QUEENS</td>\n",
              "      <td>113</td>\n",
              "      <td>0</td>\n",
              "      <td>Unknown</td>\n",
              "      <td>False</td>\n",
              "      <td>Unknown</td>\n",
              "      <td>Unknown</td>\n",
              "      <td>Unknown</td>\n",
              "      <td>18-24</td>\n",
              "      <td>M</td>\n",
              "      <td>BLACK</td>\n",
              "      <td>1046624</td>\n",
              "      <td>184398</td>\n",
              "      <td>40.672595</td>\n",
              "      <td>-73.775145</td>\n",
              "      <td>POINT (-73.77514474599997 40.67259514700004)</td>\n",
              "      <td>2015-04-13 00:12:00</td>\n",
              "      <td>113</td>\n",
              "      <td>18-24</td>\n",
              "      <td>BLACK</td>\n",
              "    </tr>\n",
              "    <tr>\n",
              "      <th>17027</th>\n",
              "      <td>109291971</td>\n",
              "      <td>BROOKLYN</td>\n",
              "      <td>81</td>\n",
              "      <td>0</td>\n",
              "      <td>MULTI DWELL - APT BUILD</td>\n",
              "      <td>False</td>\n",
              "      <td>Unknown</td>\n",
              "      <td>Unknown</td>\n",
              "      <td>Unknown</td>\n",
              "      <td>18-24</td>\n",
              "      <td>M</td>\n",
              "      <td>BLACK</td>\n",
              "      <td>1003656</td>\n",
              "      <td>187150</td>\n",
              "      <td>40.680347</td>\n",
              "      <td>-73.930035</td>\n",
              "      <td>POINT (-73.93003524099998 40.68034722300007)</td>\n",
              "      <td>2014-03-26 16:23:00</td>\n",
              "      <td>75</td>\n",
              "      <td>18-24</td>\n",
              "      <td>BLACK</td>\n",
              "    </tr>\n",
              "    <tr>\n",
              "      <th>17028</th>\n",
              "      <td>25170411</td>\n",
              "      <td>MANHATTAN</td>\n",
              "      <td>28</td>\n",
              "      <td>0</td>\n",
              "      <td>MULTI DWELL - APT BUILD</td>\n",
              "      <td>True</td>\n",
              "      <td>Unknown</td>\n",
              "      <td>Unknown</td>\n",
              "      <td>Unknown</td>\n",
              "      <td>25-44</td>\n",
              "      <td>M</td>\n",
              "      <td>BLACK</td>\n",
              "      <td>999934</td>\n",
              "      <td>233568</td>\n",
              "      <td>40.807760</td>\n",
              "      <td>-73.943346</td>\n",
              "      <td>POINT (-73.943346267 40.80776037800007)</td>\n",
              "      <td>2006-11-05 04:50:00</td>\n",
              "      <td>32</td>\n",
              "      <td>18-24</td>\n",
              "      <td>BLACK</td>\n",
              "    </tr>\n",
              "    <tr>\n",
              "      <th>17029</th>\n",
              "      <td>63381856</td>\n",
              "      <td>BROOKLYN</td>\n",
              "      <td>67</td>\n",
              "      <td>0</td>\n",
              "      <td>Unknown</td>\n",
              "      <td>False</td>\n",
              "      <td>25-44</td>\n",
              "      <td>M</td>\n",
              "      <td>BLACK</td>\n",
              "      <td>25-44</td>\n",
              "      <td>M</td>\n",
              "      <td>BLACK</td>\n",
              "      <td>998387</td>\n",
              "      <td>174639</td>\n",
              "      <td>40.646017</td>\n",
              "      <td>-73.949058</td>\n",
              "      <td>POINT (-73.94905826799999 40.646017278000045)</td>\n",
              "      <td>2009-07-04 16:00:00</td>\n",
              "      <td>75</td>\n",
              "      <td>18-24</td>\n",
              "      <td>BLACK</td>\n",
              "    </tr>\n",
              "    <tr>\n",
              "      <th>17030</th>\n",
              "      <td>92673375</td>\n",
              "      <td>MANHATTAN</td>\n",
              "      <td>24</td>\n",
              "      <td>0</td>\n",
              "      <td>MULTI DWELL - PUBLIC HOUS</td>\n",
              "      <td>True</td>\n",
              "      <td>Unknown</td>\n",
              "      <td>Unknown</td>\n",
              "      <td>Unknown</td>\n",
              "      <td>45-64</td>\n",
              "      <td>M</td>\n",
              "      <td>WHITE HISPANIC</td>\n",
              "      <td>993290</td>\n",
              "      <td>230079</td>\n",
              "      <td>40.798193</td>\n",
              "      <td>-73.967351</td>\n",
              "      <td>POINT (-73.96735102799995 40.798193324000074)</td>\n",
              "      <td>2013-09-17 08:08:00</td>\n",
              "      <td>32</td>\n",
              "      <td>18-24</td>\n",
              "      <td>BLACK</td>\n",
              "    </tr>\n",
              "  </tbody>\n",
              "</table>\n",
              "<p>17031 rows × 21 columns</p>\n",
              "</div>"
            ],
            "text/plain": [
              "       INCIDENT_KEY           BORO  ...  MOST_CONVICTED_AGE MOST_PERP_RACE\n",
              "0         201575314         QUEENS  ...               18-24          BLACK\n",
              "1         205748546          BRONX  ...               18-24          BLACK\n",
              "2         193118596      MANHATTAN  ...               18-24          BLACK\n",
              "3         204192600  STATEN ISLAND  ...               18-24          BLACK\n",
              "4         201483468          BRONX  ...               18-24          BLACK\n",
              "...             ...            ...  ...                 ...            ...\n",
              "17026     142091388         QUEENS  ...               18-24          BLACK\n",
              "17027     109291971       BROOKLYN  ...               18-24          BLACK\n",
              "17028      25170411      MANHATTAN  ...               18-24          BLACK\n",
              "17029      63381856       BROOKLYN  ...               18-24          BLACK\n",
              "17030      92673375      MANHATTAN  ...               18-24          BLACK\n",
              "\n",
              "[17031 rows x 21 columns]"
            ]
          },
          "metadata": {
            "tags": []
          },
          "execution_count": 148
        }
      ]
    },
    {
      "cell_type": "markdown",
      "metadata": {
        "id": "-wUhnFw-p5oT"
      },
      "source": [
        "###Find who the majority of victims are in each Boro"
      ]
    },
    {
      "cell_type": "code",
      "metadata": {
        "colab": {
          "base_uri": "https://localhost:8080/",
          "height": 241
        },
        "id": "z8lBMd2pqGJ7",
        "outputId": "2ba3f2d5-72e1-4d0d-c325-d3b4178e2f1d"
      },
      "source": [
        "vic_race_group_df = shootings.groupby(['BORO'], as_index=False).agg({\"VIC_RACE\": lambda x: x.value_counts().index[0] if x.value_counts().index[0] != \"Unknown\" else x.value_counts().index[1]})\n",
        "vic_race_group_df.head()"
      ],
      "execution_count": null,
      "outputs": [
        {
          "output_type": "execute_result",
          "data": {
            "text/html": [
              "<div>\n",
              "<style scoped>\n",
              "    .dataframe tbody tr th:only-of-type {\n",
              "        vertical-align: middle;\n",
              "    }\n",
              "\n",
              "    .dataframe tbody tr th {\n",
              "        vertical-align: top;\n",
              "    }\n",
              "\n",
              "    .dataframe thead th {\n",
              "        text-align: right;\n",
              "    }\n",
              "</style>\n",
              "<table border=\"1\" class=\"dataframe\">\n",
              "  <thead>\n",
              "    <tr style=\"text-align: right;\">\n",
              "      <th></th>\n",
              "      <th>BORO</th>\n",
              "      <th>VIC_RACE</th>\n",
              "    </tr>\n",
              "  </thead>\n",
              "  <tbody>\n",
              "    <tr>\n",
              "      <th>0</th>\n",
              "      <td>BRONX</td>\n",
              "      <td>BLACK</td>\n",
              "    </tr>\n",
              "    <tr>\n",
              "      <th>1</th>\n",
              "      <td>BROOKLYN</td>\n",
              "      <td>BLACK</td>\n",
              "    </tr>\n",
              "    <tr>\n",
              "      <th>2</th>\n",
              "      <td>MANHATTAN</td>\n",
              "      <td>BLACK</td>\n",
              "    </tr>\n",
              "    <tr>\n",
              "      <th>3</th>\n",
              "      <td>QUEENS</td>\n",
              "      <td>BLACK</td>\n",
              "    </tr>\n",
              "    <tr>\n",
              "      <th>4</th>\n",
              "      <td>STATEN ISLAND</td>\n",
              "      <td>BLACK</td>\n",
              "    </tr>\n",
              "  </tbody>\n",
              "</table>\n",
              "</div>"
            ],
            "text/plain": [
              "            BORO VIC_RACE\n",
              "0          BRONX    BLACK\n",
              "1       BROOKLYN    BLACK\n",
              "2      MANHATTAN    BLACK\n",
              "3         QUEENS    BLACK\n",
              "4  STATEN ISLAND    BLACK"
            ]
          },
          "metadata": {
            "tags": []
          },
          "execution_count": 149
        }
      ]
    },
    {
      "cell_type": "markdown",
      "metadata": {
        "id": "EUetlKIfxXl6"
      },
      "source": [
        "Rename the column"
      ]
    },
    {
      "cell_type": "code",
      "metadata": {
        "colab": {
          "base_uri": "https://localhost:8080/",
          "height": 241
        },
        "id": "_siV_CYtzBdu",
        "outputId": "db4455f1-e6f4-4545-e0dc-ad032916cc30"
      },
      "source": [
        "vic_race_group_df.columns = ['BORO', 'MOST_VIC_RACE']\n",
        "race_group_df"
      ],
      "execution_count": null,
      "outputs": [
        {
          "output_type": "execute_result",
          "data": {
            "text/html": [
              "<div>\n",
              "<style scoped>\n",
              "    .dataframe tbody tr th:only-of-type {\n",
              "        vertical-align: middle;\n",
              "    }\n",
              "\n",
              "    .dataframe tbody tr th {\n",
              "        vertical-align: top;\n",
              "    }\n",
              "\n",
              "    .dataframe thead th {\n",
              "        text-align: right;\n",
              "    }\n",
              "</style>\n",
              "<table border=\"1\" class=\"dataframe\">\n",
              "  <thead>\n",
              "    <tr style=\"text-align: right;\">\n",
              "      <th></th>\n",
              "      <th>BORO</th>\n",
              "      <th>MOST_PERP_RACE</th>\n",
              "    </tr>\n",
              "  </thead>\n",
              "  <tbody>\n",
              "    <tr>\n",
              "      <th>0</th>\n",
              "      <td>BRONX</td>\n",
              "      <td>BLACK</td>\n",
              "    </tr>\n",
              "    <tr>\n",
              "      <th>1</th>\n",
              "      <td>BROOKLYN</td>\n",
              "      <td>BLACK</td>\n",
              "    </tr>\n",
              "    <tr>\n",
              "      <th>2</th>\n",
              "      <td>MANHATTAN</td>\n",
              "      <td>BLACK</td>\n",
              "    </tr>\n",
              "    <tr>\n",
              "      <th>3</th>\n",
              "      <td>QUEENS</td>\n",
              "      <td>BLACK</td>\n",
              "    </tr>\n",
              "    <tr>\n",
              "      <th>4</th>\n",
              "      <td>STATEN ISLAND</td>\n",
              "      <td>BLACK</td>\n",
              "    </tr>\n",
              "  </tbody>\n",
              "</table>\n",
              "</div>"
            ],
            "text/plain": [
              "            BORO MOST_PERP_RACE\n",
              "0          BRONX          BLACK\n",
              "1       BROOKLYN          BLACK\n",
              "2      MANHATTAN          BLACK\n",
              "3         QUEENS          BLACK\n",
              "4  STATEN ISLAND          BLACK"
            ]
          },
          "metadata": {
            "tags": []
          },
          "execution_count": 150
        }
      ]
    },
    {
      "cell_type": "markdown",
      "metadata": {
        "id": "EoDMiK7HzLAq"
      },
      "source": [
        "Merge them"
      ]
    },
    {
      "cell_type": "code",
      "metadata": {
        "colab": {
          "base_uri": "https://localhost:8080/",
          "height": 847
        },
        "id": "gXvcEraoxW8P",
        "outputId": "df0335e0-ec4e-4e9a-e571-594959f48399"
      },
      "source": [
        "shootings = shootings.merge(vic_race_group_df, left_on=\"BORO\", right_on='BORO', how='left')\n",
        "shootings"
      ],
      "execution_count": null,
      "outputs": [
        {
          "output_type": "execute_result",
          "data": {
            "text/html": [
              "<div>\n",
              "<style scoped>\n",
              "    .dataframe tbody tr th:only-of-type {\n",
              "        vertical-align: middle;\n",
              "    }\n",
              "\n",
              "    .dataframe tbody tr th {\n",
              "        vertical-align: top;\n",
              "    }\n",
              "\n",
              "    .dataframe thead th {\n",
              "        text-align: right;\n",
              "    }\n",
              "</style>\n",
              "<table border=\"1\" class=\"dataframe\">\n",
              "  <thead>\n",
              "    <tr style=\"text-align: right;\">\n",
              "      <th></th>\n",
              "      <th>INCIDENT_KEY</th>\n",
              "      <th>BORO</th>\n",
              "      <th>PRECINCT</th>\n",
              "      <th>JURISDICTION_CODE</th>\n",
              "      <th>LOCATION_DESC</th>\n",
              "      <th>STATISTICAL_MURDER_FLAG</th>\n",
              "      <th>PERP_AGE_GROUP</th>\n",
              "      <th>PERP_SEX</th>\n",
              "      <th>PERP_RACE</th>\n",
              "      <th>VIC_AGE_GROUP</th>\n",
              "      <th>VIC_SEX</th>\n",
              "      <th>VIC_RACE</th>\n",
              "      <th>X_COORD_CD</th>\n",
              "      <th>Y_COORD_CD</th>\n",
              "      <th>Latitude</th>\n",
              "      <th>Longitude</th>\n",
              "      <th>Lon_Lat</th>\n",
              "      <th>OCCUR_DATETIME</th>\n",
              "      <th>WORST_PRECINCT</th>\n",
              "      <th>MOST_CONVICTED_AGE</th>\n",
              "      <th>MOST_PERP_RACE</th>\n",
              "      <th>MOST_VIC_RACE</th>\n",
              "    </tr>\n",
              "  </thead>\n",
              "  <tbody>\n",
              "    <tr>\n",
              "      <th>0</th>\n",
              "      <td>201575314</td>\n",
              "      <td>QUEENS</td>\n",
              "      <td>103</td>\n",
              "      <td>0</td>\n",
              "      <td>Unknown</td>\n",
              "      <td>False</td>\n",
              "      <td>Unknown</td>\n",
              "      <td>Unknown</td>\n",
              "      <td>Unknown</td>\n",
              "      <td>25-44</td>\n",
              "      <td>M</td>\n",
              "      <td>BLACK</td>\n",
              "      <td>1037451</td>\n",
              "      <td>193561</td>\n",
              "      <td>40.697805</td>\n",
              "      <td>-73.808141</td>\n",
              "      <td>POINT (-73.80814071699996 40.697805308000056)</td>\n",
              "      <td>2019-08-23 22:10:00</td>\n",
              "      <td>113</td>\n",
              "      <td>18-24</td>\n",
              "      <td>BLACK</td>\n",
              "      <td>BLACK</td>\n",
              "    </tr>\n",
              "    <tr>\n",
              "      <th>1</th>\n",
              "      <td>205748546</td>\n",
              "      <td>BRONX</td>\n",
              "      <td>40</td>\n",
              "      <td>0</td>\n",
              "      <td>Unknown</td>\n",
              "      <td>False</td>\n",
              "      <td>&lt;18</td>\n",
              "      <td>M</td>\n",
              "      <td>BLACK</td>\n",
              "      <td>25-44</td>\n",
              "      <td>F</td>\n",
              "      <td>BLACK</td>\n",
              "      <td>1006789</td>\n",
              "      <td>237559</td>\n",
              "      <td>40.818700</td>\n",
              "      <td>-73.918571</td>\n",
              "      <td>POINT (-73.91857061799993 40.81869973000005)</td>\n",
              "      <td>2019-11-27 15:54:00</td>\n",
              "      <td>47</td>\n",
              "      <td>18-24</td>\n",
              "      <td>BLACK</td>\n",
              "      <td>BLACK</td>\n",
              "    </tr>\n",
              "    <tr>\n",
              "      <th>2</th>\n",
              "      <td>193118596</td>\n",
              "      <td>MANHATTAN</td>\n",
              "      <td>23</td>\n",
              "      <td>0</td>\n",
              "      <td>Unknown</td>\n",
              "      <td>False</td>\n",
              "      <td>18-24</td>\n",
              "      <td>M</td>\n",
              "      <td>WHITE HISPANIC</td>\n",
              "      <td>18-24</td>\n",
              "      <td>M</td>\n",
              "      <td>BLACK HISPANIC</td>\n",
              "      <td>999347</td>\n",
              "      <td>227795</td>\n",
              "      <td>40.791916</td>\n",
              "      <td>-73.945480</td>\n",
              "      <td>POINT (-73.94547965999999 40.791916091000076)</td>\n",
              "      <td>2019-02-02 19:40:00</td>\n",
              "      <td>32</td>\n",
              "      <td>18-24</td>\n",
              "      <td>BLACK</td>\n",
              "      <td>BLACK</td>\n",
              "    </tr>\n",
              "    <tr>\n",
              "      <th>3</th>\n",
              "      <td>204192600</td>\n",
              "      <td>STATEN ISLAND</td>\n",
              "      <td>121</td>\n",
              "      <td>0</td>\n",
              "      <td>PVT HOUSE</td>\n",
              "      <td>True</td>\n",
              "      <td>25-44</td>\n",
              "      <td>M</td>\n",
              "      <td>BLACK</td>\n",
              "      <td>25-44</td>\n",
              "      <td>F</td>\n",
              "      <td>BLACK</td>\n",
              "      <td>938149</td>\n",
              "      <td>171781</td>\n",
              "      <td>40.638064</td>\n",
              "      <td>-74.166108</td>\n",
              "      <td>POINT (-74.16610830199996 40.63806398200006)</td>\n",
              "      <td>2019-10-24 00:52:00</td>\n",
              "      <td>120</td>\n",
              "      <td>18-24</td>\n",
              "      <td>BLACK</td>\n",
              "      <td>BLACK</td>\n",
              "    </tr>\n",
              "    <tr>\n",
              "      <th>4</th>\n",
              "      <td>201483468</td>\n",
              "      <td>BRONX</td>\n",
              "      <td>46</td>\n",
              "      <td>0</td>\n",
              "      <td>Unknown</td>\n",
              "      <td>False</td>\n",
              "      <td>25-44</td>\n",
              "      <td>M</td>\n",
              "      <td>BLACK HISPANIC</td>\n",
              "      <td>18-24</td>\n",
              "      <td>M</td>\n",
              "      <td>BLACK</td>\n",
              "      <td>1008224</td>\n",
              "      <td>250621</td>\n",
              "      <td>40.854547</td>\n",
              "      <td>-73.913339</td>\n",
              "      <td>POINT (-73.91333944399999 40.85454734900003)</td>\n",
              "      <td>2019-08-22 18:03:00</td>\n",
              "      <td>47</td>\n",
              "      <td>18-24</td>\n",
              "      <td>BLACK</td>\n",
              "      <td>BLACK</td>\n",
              "    </tr>\n",
              "    <tr>\n",
              "      <th>...</th>\n",
              "      <td>...</td>\n",
              "      <td>...</td>\n",
              "      <td>...</td>\n",
              "      <td>...</td>\n",
              "      <td>...</td>\n",
              "      <td>...</td>\n",
              "      <td>...</td>\n",
              "      <td>...</td>\n",
              "      <td>...</td>\n",
              "      <td>...</td>\n",
              "      <td>...</td>\n",
              "      <td>...</td>\n",
              "      <td>...</td>\n",
              "      <td>...</td>\n",
              "      <td>...</td>\n",
              "      <td>...</td>\n",
              "      <td>...</td>\n",
              "      <td>...</td>\n",
              "      <td>...</td>\n",
              "      <td>...</td>\n",
              "      <td>...</td>\n",
              "      <td>...</td>\n",
              "    </tr>\n",
              "    <tr>\n",
              "      <th>17026</th>\n",
              "      <td>142091388</td>\n",
              "      <td>QUEENS</td>\n",
              "      <td>113</td>\n",
              "      <td>0</td>\n",
              "      <td>Unknown</td>\n",
              "      <td>False</td>\n",
              "      <td>Unknown</td>\n",
              "      <td>Unknown</td>\n",
              "      <td>Unknown</td>\n",
              "      <td>18-24</td>\n",
              "      <td>M</td>\n",
              "      <td>BLACK</td>\n",
              "      <td>1046624</td>\n",
              "      <td>184398</td>\n",
              "      <td>40.672595</td>\n",
              "      <td>-73.775145</td>\n",
              "      <td>POINT (-73.77514474599997 40.67259514700004)</td>\n",
              "      <td>2015-04-13 00:12:00</td>\n",
              "      <td>113</td>\n",
              "      <td>18-24</td>\n",
              "      <td>BLACK</td>\n",
              "      <td>BLACK</td>\n",
              "    </tr>\n",
              "    <tr>\n",
              "      <th>17027</th>\n",
              "      <td>109291971</td>\n",
              "      <td>BROOKLYN</td>\n",
              "      <td>81</td>\n",
              "      <td>0</td>\n",
              "      <td>MULTI DWELL - APT BUILD</td>\n",
              "      <td>False</td>\n",
              "      <td>Unknown</td>\n",
              "      <td>Unknown</td>\n",
              "      <td>Unknown</td>\n",
              "      <td>18-24</td>\n",
              "      <td>M</td>\n",
              "      <td>BLACK</td>\n",
              "      <td>1003656</td>\n",
              "      <td>187150</td>\n",
              "      <td>40.680347</td>\n",
              "      <td>-73.930035</td>\n",
              "      <td>POINT (-73.93003524099998 40.68034722300007)</td>\n",
              "      <td>2014-03-26 16:23:00</td>\n",
              "      <td>75</td>\n",
              "      <td>18-24</td>\n",
              "      <td>BLACK</td>\n",
              "      <td>BLACK</td>\n",
              "    </tr>\n",
              "    <tr>\n",
              "      <th>17028</th>\n",
              "      <td>25170411</td>\n",
              "      <td>MANHATTAN</td>\n",
              "      <td>28</td>\n",
              "      <td>0</td>\n",
              "      <td>MULTI DWELL - APT BUILD</td>\n",
              "      <td>True</td>\n",
              "      <td>Unknown</td>\n",
              "      <td>Unknown</td>\n",
              "      <td>Unknown</td>\n",
              "      <td>25-44</td>\n",
              "      <td>M</td>\n",
              "      <td>BLACK</td>\n",
              "      <td>999934</td>\n",
              "      <td>233568</td>\n",
              "      <td>40.807760</td>\n",
              "      <td>-73.943346</td>\n",
              "      <td>POINT (-73.943346267 40.80776037800007)</td>\n",
              "      <td>2006-11-05 04:50:00</td>\n",
              "      <td>32</td>\n",
              "      <td>18-24</td>\n",
              "      <td>BLACK</td>\n",
              "      <td>BLACK</td>\n",
              "    </tr>\n",
              "    <tr>\n",
              "      <th>17029</th>\n",
              "      <td>63381856</td>\n",
              "      <td>BROOKLYN</td>\n",
              "      <td>67</td>\n",
              "      <td>0</td>\n",
              "      <td>Unknown</td>\n",
              "      <td>False</td>\n",
              "      <td>25-44</td>\n",
              "      <td>M</td>\n",
              "      <td>BLACK</td>\n",
              "      <td>25-44</td>\n",
              "      <td>M</td>\n",
              "      <td>BLACK</td>\n",
              "      <td>998387</td>\n",
              "      <td>174639</td>\n",
              "      <td>40.646017</td>\n",
              "      <td>-73.949058</td>\n",
              "      <td>POINT (-73.94905826799999 40.646017278000045)</td>\n",
              "      <td>2009-07-04 16:00:00</td>\n",
              "      <td>75</td>\n",
              "      <td>18-24</td>\n",
              "      <td>BLACK</td>\n",
              "      <td>BLACK</td>\n",
              "    </tr>\n",
              "    <tr>\n",
              "      <th>17030</th>\n",
              "      <td>92673375</td>\n",
              "      <td>MANHATTAN</td>\n",
              "      <td>24</td>\n",
              "      <td>0</td>\n",
              "      <td>MULTI DWELL - PUBLIC HOUS</td>\n",
              "      <td>True</td>\n",
              "      <td>Unknown</td>\n",
              "      <td>Unknown</td>\n",
              "      <td>Unknown</td>\n",
              "      <td>45-64</td>\n",
              "      <td>M</td>\n",
              "      <td>WHITE HISPANIC</td>\n",
              "      <td>993290</td>\n",
              "      <td>230079</td>\n",
              "      <td>40.798193</td>\n",
              "      <td>-73.967351</td>\n",
              "      <td>POINT (-73.96735102799995 40.798193324000074)</td>\n",
              "      <td>2013-09-17 08:08:00</td>\n",
              "      <td>32</td>\n",
              "      <td>18-24</td>\n",
              "      <td>BLACK</td>\n",
              "      <td>BLACK</td>\n",
              "    </tr>\n",
              "  </tbody>\n",
              "</table>\n",
              "<p>17031 rows × 22 columns</p>\n",
              "</div>"
            ],
            "text/plain": [
              "       INCIDENT_KEY           BORO  ...  MOST_PERP_RACE MOST_VIC_RACE\n",
              "0         201575314         QUEENS  ...           BLACK         BLACK\n",
              "1         205748546          BRONX  ...           BLACK         BLACK\n",
              "2         193118596      MANHATTAN  ...           BLACK         BLACK\n",
              "3         204192600  STATEN ISLAND  ...           BLACK         BLACK\n",
              "4         201483468          BRONX  ...           BLACK         BLACK\n",
              "...             ...            ...  ...             ...           ...\n",
              "17026     142091388         QUEENS  ...           BLACK         BLACK\n",
              "17027     109291971       BROOKLYN  ...           BLACK         BLACK\n",
              "17028      25170411      MANHATTAN  ...           BLACK         BLACK\n",
              "17029      63381856       BROOKLYN  ...           BLACK         BLACK\n",
              "17030      92673375      MANHATTAN  ...           BLACK         BLACK\n",
              "\n",
              "[17031 rows x 22 columns]"
            ]
          },
          "metadata": {
            "tags": []
          },
          "execution_count": 151
        }
      ]
    },
    {
      "cell_type": "markdown",
      "metadata": {
        "id": "r9R-mX9JzR-b"
      },
      "source": [
        "###Change Statistical murder flag to 0 and 1 from booleans and then find the avg of each precinct in each Boro then compare it to the boro's statistical murder flag"
      ]
    },
    {
      "cell_type": "markdown",
      "metadata": {
        "id": "g4glp7Nj2j6H"
      },
      "source": [
        "Change to 0 and 1's"
      ]
    },
    {
      "cell_type": "code",
      "metadata": {
        "colab": {
          "base_uri": "https://localhost:8080/",
          "height": 394
        },
        "id": "yOrIRnFJ2jS8",
        "outputId": "b9a8d9a5-db03-458d-9100-352a26dfab1d"
      },
      "source": [
        "shootings['STATISTICAL_MURDER_FLAG'] = shootings['STATISTICAL_MURDER_FLAG'].replace({True: 1, False: 0})\n",
        "shootings.head()\n"
      ],
      "execution_count": null,
      "outputs": [
        {
          "output_type": "execute_result",
          "data": {
            "text/html": [
              "<div>\n",
              "<style scoped>\n",
              "    .dataframe tbody tr th:only-of-type {\n",
              "        vertical-align: middle;\n",
              "    }\n",
              "\n",
              "    .dataframe tbody tr th {\n",
              "        vertical-align: top;\n",
              "    }\n",
              "\n",
              "    .dataframe thead th {\n",
              "        text-align: right;\n",
              "    }\n",
              "</style>\n",
              "<table border=\"1\" class=\"dataframe\">\n",
              "  <thead>\n",
              "    <tr style=\"text-align: right;\">\n",
              "      <th></th>\n",
              "      <th>INCIDENT_KEY</th>\n",
              "      <th>BORO</th>\n",
              "      <th>PRECINCT</th>\n",
              "      <th>JURISDICTION_CODE</th>\n",
              "      <th>LOCATION_DESC</th>\n",
              "      <th>STATISTICAL_MURDER_FLAG</th>\n",
              "      <th>PERP_AGE_GROUP</th>\n",
              "      <th>PERP_SEX</th>\n",
              "      <th>PERP_RACE</th>\n",
              "      <th>VIC_AGE_GROUP</th>\n",
              "      <th>VIC_SEX</th>\n",
              "      <th>VIC_RACE</th>\n",
              "      <th>X_COORD_CD</th>\n",
              "      <th>Y_COORD_CD</th>\n",
              "      <th>Latitude</th>\n",
              "      <th>Longitude</th>\n",
              "      <th>Lon_Lat</th>\n",
              "      <th>OCCUR_DATETIME</th>\n",
              "      <th>WORST_PRECINCT</th>\n",
              "      <th>MOST_CONVICTED_AGE</th>\n",
              "      <th>MOST_PERP_RACE</th>\n",
              "      <th>MOST_VIC_RACE</th>\n",
              "    </tr>\n",
              "  </thead>\n",
              "  <tbody>\n",
              "    <tr>\n",
              "      <th>0</th>\n",
              "      <td>201575314</td>\n",
              "      <td>QUEENS</td>\n",
              "      <td>103</td>\n",
              "      <td>0</td>\n",
              "      <td>Unknown</td>\n",
              "      <td>0</td>\n",
              "      <td>Unknown</td>\n",
              "      <td>Unknown</td>\n",
              "      <td>Unknown</td>\n",
              "      <td>25-44</td>\n",
              "      <td>M</td>\n",
              "      <td>BLACK</td>\n",
              "      <td>1037451</td>\n",
              "      <td>193561</td>\n",
              "      <td>40.697805</td>\n",
              "      <td>-73.808141</td>\n",
              "      <td>POINT (-73.80814071699996 40.697805308000056)</td>\n",
              "      <td>2019-08-23 22:10:00</td>\n",
              "      <td>113</td>\n",
              "      <td>18-24</td>\n",
              "      <td>BLACK</td>\n",
              "      <td>BLACK</td>\n",
              "    </tr>\n",
              "    <tr>\n",
              "      <th>1</th>\n",
              "      <td>205748546</td>\n",
              "      <td>BRONX</td>\n",
              "      <td>40</td>\n",
              "      <td>0</td>\n",
              "      <td>Unknown</td>\n",
              "      <td>0</td>\n",
              "      <td>&lt;18</td>\n",
              "      <td>M</td>\n",
              "      <td>BLACK</td>\n",
              "      <td>25-44</td>\n",
              "      <td>F</td>\n",
              "      <td>BLACK</td>\n",
              "      <td>1006789</td>\n",
              "      <td>237559</td>\n",
              "      <td>40.818700</td>\n",
              "      <td>-73.918571</td>\n",
              "      <td>POINT (-73.91857061799993 40.81869973000005)</td>\n",
              "      <td>2019-11-27 15:54:00</td>\n",
              "      <td>47</td>\n",
              "      <td>18-24</td>\n",
              "      <td>BLACK</td>\n",
              "      <td>BLACK</td>\n",
              "    </tr>\n",
              "    <tr>\n",
              "      <th>2</th>\n",
              "      <td>193118596</td>\n",
              "      <td>MANHATTAN</td>\n",
              "      <td>23</td>\n",
              "      <td>0</td>\n",
              "      <td>Unknown</td>\n",
              "      <td>0</td>\n",
              "      <td>18-24</td>\n",
              "      <td>M</td>\n",
              "      <td>WHITE HISPANIC</td>\n",
              "      <td>18-24</td>\n",
              "      <td>M</td>\n",
              "      <td>BLACK HISPANIC</td>\n",
              "      <td>999347</td>\n",
              "      <td>227795</td>\n",
              "      <td>40.791916</td>\n",
              "      <td>-73.945480</td>\n",
              "      <td>POINT (-73.94547965999999 40.791916091000076)</td>\n",
              "      <td>2019-02-02 19:40:00</td>\n",
              "      <td>32</td>\n",
              "      <td>18-24</td>\n",
              "      <td>BLACK</td>\n",
              "      <td>BLACK</td>\n",
              "    </tr>\n",
              "    <tr>\n",
              "      <th>3</th>\n",
              "      <td>204192600</td>\n",
              "      <td>STATEN ISLAND</td>\n",
              "      <td>121</td>\n",
              "      <td>0</td>\n",
              "      <td>PVT HOUSE</td>\n",
              "      <td>1</td>\n",
              "      <td>25-44</td>\n",
              "      <td>M</td>\n",
              "      <td>BLACK</td>\n",
              "      <td>25-44</td>\n",
              "      <td>F</td>\n",
              "      <td>BLACK</td>\n",
              "      <td>938149</td>\n",
              "      <td>171781</td>\n",
              "      <td>40.638064</td>\n",
              "      <td>-74.166108</td>\n",
              "      <td>POINT (-74.16610830199996 40.63806398200006)</td>\n",
              "      <td>2019-10-24 00:52:00</td>\n",
              "      <td>120</td>\n",
              "      <td>18-24</td>\n",
              "      <td>BLACK</td>\n",
              "      <td>BLACK</td>\n",
              "    </tr>\n",
              "    <tr>\n",
              "      <th>4</th>\n",
              "      <td>201483468</td>\n",
              "      <td>BRONX</td>\n",
              "      <td>46</td>\n",
              "      <td>0</td>\n",
              "      <td>Unknown</td>\n",
              "      <td>0</td>\n",
              "      <td>25-44</td>\n",
              "      <td>M</td>\n",
              "      <td>BLACK HISPANIC</td>\n",
              "      <td>18-24</td>\n",
              "      <td>M</td>\n",
              "      <td>BLACK</td>\n",
              "      <td>1008224</td>\n",
              "      <td>250621</td>\n",
              "      <td>40.854547</td>\n",
              "      <td>-73.913339</td>\n",
              "      <td>POINT (-73.91333944399999 40.85454734900003)</td>\n",
              "      <td>2019-08-22 18:03:00</td>\n",
              "      <td>47</td>\n",
              "      <td>18-24</td>\n",
              "      <td>BLACK</td>\n",
              "      <td>BLACK</td>\n",
              "    </tr>\n",
              "  </tbody>\n",
              "</table>\n",
              "</div>"
            ],
            "text/plain": [
              "   INCIDENT_KEY           BORO  ...  MOST_PERP_RACE MOST_VIC_RACE\n",
              "0     201575314         QUEENS  ...           BLACK         BLACK\n",
              "1     205748546          BRONX  ...           BLACK         BLACK\n",
              "2     193118596      MANHATTAN  ...           BLACK         BLACK\n",
              "3     204192600  STATEN ISLAND  ...           BLACK         BLACK\n",
              "4     201483468          BRONX  ...           BLACK         BLACK\n",
              "\n",
              "[5 rows x 22 columns]"
            ]
          },
          "metadata": {
            "tags": []
          },
          "execution_count": 152
        }
      ]
    },
    {
      "cell_type": "markdown",
      "metadata": {
        "id": "43xP7FcP3GdL"
      },
      "source": [
        "Find avg of flag of each Boro"
      ]
    },
    {
      "cell_type": "code",
      "metadata": {
        "colab": {
          "base_uri": "https://localhost:8080/",
          "height": 272
        },
        "id": "crORvTfs4IHl",
        "outputId": "15a45cdd-1135-4170-a2ae-d9184fe43814"
      },
      "source": [
        "boro_avg_flag_df = shootings.groupby(['BORO'], as_index=False).agg({\"STATISTICAL_MURDER_FLAG\": ['mean']})\n",
        "boro_avg_flag_df.head()"
      ],
      "execution_count": null,
      "outputs": [
        {
          "output_type": "execute_result",
          "data": {
            "text/html": [
              "<div>\n",
              "<style scoped>\n",
              "    .dataframe tbody tr th:only-of-type {\n",
              "        vertical-align: middle;\n",
              "    }\n",
              "\n",
              "    .dataframe tbody tr th {\n",
              "        vertical-align: top;\n",
              "    }\n",
              "\n",
              "    .dataframe thead tr th {\n",
              "        text-align: left;\n",
              "    }\n",
              "</style>\n",
              "<table border=\"1\" class=\"dataframe\">\n",
              "  <thead>\n",
              "    <tr>\n",
              "      <th></th>\n",
              "      <th>BORO</th>\n",
              "      <th>STATISTICAL_MURDER_FLAG</th>\n",
              "    </tr>\n",
              "    <tr>\n",
              "      <th></th>\n",
              "      <th></th>\n",
              "      <th>mean</th>\n",
              "    </tr>\n",
              "  </thead>\n",
              "  <tbody>\n",
              "    <tr>\n",
              "      <th>0</th>\n",
              "      <td>BRONX</td>\n",
              "      <td>0.168506</td>\n",
              "    </tr>\n",
              "    <tr>\n",
              "      <th>1</th>\n",
              "      <td>BROOKLYN</td>\n",
              "      <td>0.178681</td>\n",
              "    </tr>\n",
              "    <tr>\n",
              "      <th>2</th>\n",
              "      <td>MANHATTAN</td>\n",
              "      <td>0.158022</td>\n",
              "    </tr>\n",
              "    <tr>\n",
              "      <th>3</th>\n",
              "      <td>QUEENS</td>\n",
              "      <td>0.184200</td>\n",
              "    </tr>\n",
              "    <tr>\n",
              "      <th>4</th>\n",
              "      <td>STATEN ISLAND</td>\n",
              "      <td>0.183236</td>\n",
              "    </tr>\n",
              "  </tbody>\n",
              "</table>\n",
              "</div>"
            ],
            "text/plain": [
              "            BORO STATISTICAL_MURDER_FLAG\n",
              "                                    mean\n",
              "0          BRONX                0.168506\n",
              "1       BROOKLYN                0.178681\n",
              "2      MANHATTAN                0.158022\n",
              "3         QUEENS                0.184200\n",
              "4  STATEN ISLAND                0.183236"
            ]
          },
          "metadata": {
            "tags": []
          },
          "execution_count": 153
        }
      ]
    },
    {
      "cell_type": "markdown",
      "metadata": {
        "id": "cQVYQUDc8PKs"
      },
      "source": [
        "Rename Columns"
      ]
    },
    {
      "cell_type": "code",
      "metadata": {
        "colab": {
          "base_uri": "https://localhost:8080/",
          "height": 241
        },
        "id": "-CaqTmKL8Tkz",
        "outputId": "dbac5f72-6819-4955-873e-be3e5886ae2b"
      },
      "source": [
        "boro_avg_flag_df.columns = ['BORO', \"STAT_MURDER_FLAG_MEAN_BORO\"]\n",
        "boro_avg_flag_df.head()"
      ],
      "execution_count": null,
      "outputs": [
        {
          "output_type": "execute_result",
          "data": {
            "text/html": [
              "<div>\n",
              "<style scoped>\n",
              "    .dataframe tbody tr th:only-of-type {\n",
              "        vertical-align: middle;\n",
              "    }\n",
              "\n",
              "    .dataframe tbody tr th {\n",
              "        vertical-align: top;\n",
              "    }\n",
              "\n",
              "    .dataframe thead th {\n",
              "        text-align: right;\n",
              "    }\n",
              "</style>\n",
              "<table border=\"1\" class=\"dataframe\">\n",
              "  <thead>\n",
              "    <tr style=\"text-align: right;\">\n",
              "      <th></th>\n",
              "      <th>BORO</th>\n",
              "      <th>STAT_MURDER_FLAG_MEAN_BORO</th>\n",
              "    </tr>\n",
              "  </thead>\n",
              "  <tbody>\n",
              "    <tr>\n",
              "      <th>0</th>\n",
              "      <td>BRONX</td>\n",
              "      <td>0.168506</td>\n",
              "    </tr>\n",
              "    <tr>\n",
              "      <th>1</th>\n",
              "      <td>BROOKLYN</td>\n",
              "      <td>0.178681</td>\n",
              "    </tr>\n",
              "    <tr>\n",
              "      <th>2</th>\n",
              "      <td>MANHATTAN</td>\n",
              "      <td>0.158022</td>\n",
              "    </tr>\n",
              "    <tr>\n",
              "      <th>3</th>\n",
              "      <td>QUEENS</td>\n",
              "      <td>0.184200</td>\n",
              "    </tr>\n",
              "    <tr>\n",
              "      <th>4</th>\n",
              "      <td>STATEN ISLAND</td>\n",
              "      <td>0.183236</td>\n",
              "    </tr>\n",
              "  </tbody>\n",
              "</table>\n",
              "</div>"
            ],
            "text/plain": [
              "            BORO  STAT_MURDER_FLAG_MEAN_BORO\n",
              "0          BRONX                    0.168506\n",
              "1       BROOKLYN                    0.178681\n",
              "2      MANHATTAN                    0.158022\n",
              "3         QUEENS                    0.184200\n",
              "4  STATEN ISLAND                    0.183236"
            ]
          },
          "metadata": {
            "tags": []
          },
          "execution_count": 154
        }
      ]
    },
    {
      "cell_type": "markdown",
      "metadata": {
        "id": "h61lT9Qo7vNI"
      },
      "source": [
        "Now, merge it"
      ]
    },
    {
      "cell_type": "code",
      "metadata": {
        "colab": {
          "base_uri": "https://localhost:8080/",
          "height": 394
        },
        "id": "8Ny15sVT7xrU",
        "outputId": "0b7ff494-1f3c-4ebd-97de-53043305bf48"
      },
      "source": [
        "shootings = shootings.merge(boro_avg_flag_df, left_on=\"BORO\", right_on='BORO', how='left')\n",
        "shootings.head()"
      ],
      "execution_count": null,
      "outputs": [
        {
          "output_type": "execute_result",
          "data": {
            "text/html": [
              "<div>\n",
              "<style scoped>\n",
              "    .dataframe tbody tr th:only-of-type {\n",
              "        vertical-align: middle;\n",
              "    }\n",
              "\n",
              "    .dataframe tbody tr th {\n",
              "        vertical-align: top;\n",
              "    }\n",
              "\n",
              "    .dataframe thead th {\n",
              "        text-align: right;\n",
              "    }\n",
              "</style>\n",
              "<table border=\"1\" class=\"dataframe\">\n",
              "  <thead>\n",
              "    <tr style=\"text-align: right;\">\n",
              "      <th></th>\n",
              "      <th>INCIDENT_KEY</th>\n",
              "      <th>BORO</th>\n",
              "      <th>PRECINCT</th>\n",
              "      <th>JURISDICTION_CODE</th>\n",
              "      <th>LOCATION_DESC</th>\n",
              "      <th>STATISTICAL_MURDER_FLAG</th>\n",
              "      <th>PERP_AGE_GROUP</th>\n",
              "      <th>PERP_SEX</th>\n",
              "      <th>PERP_RACE</th>\n",
              "      <th>VIC_AGE_GROUP</th>\n",
              "      <th>VIC_SEX</th>\n",
              "      <th>VIC_RACE</th>\n",
              "      <th>X_COORD_CD</th>\n",
              "      <th>Y_COORD_CD</th>\n",
              "      <th>Latitude</th>\n",
              "      <th>Longitude</th>\n",
              "      <th>Lon_Lat</th>\n",
              "      <th>OCCUR_DATETIME</th>\n",
              "      <th>WORST_PRECINCT</th>\n",
              "      <th>MOST_CONVICTED_AGE</th>\n",
              "      <th>MOST_PERP_RACE</th>\n",
              "      <th>MOST_VIC_RACE</th>\n",
              "      <th>STAT_MURDER_FLAG_MEAN_BORO</th>\n",
              "    </tr>\n",
              "  </thead>\n",
              "  <tbody>\n",
              "    <tr>\n",
              "      <th>0</th>\n",
              "      <td>201575314</td>\n",
              "      <td>QUEENS</td>\n",
              "      <td>103</td>\n",
              "      <td>0</td>\n",
              "      <td>Unknown</td>\n",
              "      <td>0</td>\n",
              "      <td>Unknown</td>\n",
              "      <td>Unknown</td>\n",
              "      <td>Unknown</td>\n",
              "      <td>25-44</td>\n",
              "      <td>M</td>\n",
              "      <td>BLACK</td>\n",
              "      <td>1037451</td>\n",
              "      <td>193561</td>\n",
              "      <td>40.697805</td>\n",
              "      <td>-73.808141</td>\n",
              "      <td>POINT (-73.80814071699996 40.697805308000056)</td>\n",
              "      <td>2019-08-23 22:10:00</td>\n",
              "      <td>113</td>\n",
              "      <td>18-24</td>\n",
              "      <td>BLACK</td>\n",
              "      <td>BLACK</td>\n",
              "      <td>0.184200</td>\n",
              "    </tr>\n",
              "    <tr>\n",
              "      <th>1</th>\n",
              "      <td>205748546</td>\n",
              "      <td>BRONX</td>\n",
              "      <td>40</td>\n",
              "      <td>0</td>\n",
              "      <td>Unknown</td>\n",
              "      <td>0</td>\n",
              "      <td>&lt;18</td>\n",
              "      <td>M</td>\n",
              "      <td>BLACK</td>\n",
              "      <td>25-44</td>\n",
              "      <td>F</td>\n",
              "      <td>BLACK</td>\n",
              "      <td>1006789</td>\n",
              "      <td>237559</td>\n",
              "      <td>40.818700</td>\n",
              "      <td>-73.918571</td>\n",
              "      <td>POINT (-73.91857061799993 40.81869973000005)</td>\n",
              "      <td>2019-11-27 15:54:00</td>\n",
              "      <td>47</td>\n",
              "      <td>18-24</td>\n",
              "      <td>BLACK</td>\n",
              "      <td>BLACK</td>\n",
              "      <td>0.168506</td>\n",
              "    </tr>\n",
              "    <tr>\n",
              "      <th>2</th>\n",
              "      <td>193118596</td>\n",
              "      <td>MANHATTAN</td>\n",
              "      <td>23</td>\n",
              "      <td>0</td>\n",
              "      <td>Unknown</td>\n",
              "      <td>0</td>\n",
              "      <td>18-24</td>\n",
              "      <td>M</td>\n",
              "      <td>WHITE HISPANIC</td>\n",
              "      <td>18-24</td>\n",
              "      <td>M</td>\n",
              "      <td>BLACK HISPANIC</td>\n",
              "      <td>999347</td>\n",
              "      <td>227795</td>\n",
              "      <td>40.791916</td>\n",
              "      <td>-73.945480</td>\n",
              "      <td>POINT (-73.94547965999999 40.791916091000076)</td>\n",
              "      <td>2019-02-02 19:40:00</td>\n",
              "      <td>32</td>\n",
              "      <td>18-24</td>\n",
              "      <td>BLACK</td>\n",
              "      <td>BLACK</td>\n",
              "      <td>0.158022</td>\n",
              "    </tr>\n",
              "    <tr>\n",
              "      <th>3</th>\n",
              "      <td>204192600</td>\n",
              "      <td>STATEN ISLAND</td>\n",
              "      <td>121</td>\n",
              "      <td>0</td>\n",
              "      <td>PVT HOUSE</td>\n",
              "      <td>1</td>\n",
              "      <td>25-44</td>\n",
              "      <td>M</td>\n",
              "      <td>BLACK</td>\n",
              "      <td>25-44</td>\n",
              "      <td>F</td>\n",
              "      <td>BLACK</td>\n",
              "      <td>938149</td>\n",
              "      <td>171781</td>\n",
              "      <td>40.638064</td>\n",
              "      <td>-74.166108</td>\n",
              "      <td>POINT (-74.16610830199996 40.63806398200006)</td>\n",
              "      <td>2019-10-24 00:52:00</td>\n",
              "      <td>120</td>\n",
              "      <td>18-24</td>\n",
              "      <td>BLACK</td>\n",
              "      <td>BLACK</td>\n",
              "      <td>0.183236</td>\n",
              "    </tr>\n",
              "    <tr>\n",
              "      <th>4</th>\n",
              "      <td>201483468</td>\n",
              "      <td>BRONX</td>\n",
              "      <td>46</td>\n",
              "      <td>0</td>\n",
              "      <td>Unknown</td>\n",
              "      <td>0</td>\n",
              "      <td>25-44</td>\n",
              "      <td>M</td>\n",
              "      <td>BLACK HISPANIC</td>\n",
              "      <td>18-24</td>\n",
              "      <td>M</td>\n",
              "      <td>BLACK</td>\n",
              "      <td>1008224</td>\n",
              "      <td>250621</td>\n",
              "      <td>40.854547</td>\n",
              "      <td>-73.913339</td>\n",
              "      <td>POINT (-73.91333944399999 40.85454734900003)</td>\n",
              "      <td>2019-08-22 18:03:00</td>\n",
              "      <td>47</td>\n",
              "      <td>18-24</td>\n",
              "      <td>BLACK</td>\n",
              "      <td>BLACK</td>\n",
              "      <td>0.168506</td>\n",
              "    </tr>\n",
              "  </tbody>\n",
              "</table>\n",
              "</div>"
            ],
            "text/plain": [
              "   INCIDENT_KEY           BORO  ...  MOST_VIC_RACE STAT_MURDER_FLAG_MEAN_BORO\n",
              "0     201575314         QUEENS  ...          BLACK                   0.184200\n",
              "1     205748546          BRONX  ...          BLACK                   0.168506\n",
              "2     193118596      MANHATTAN  ...          BLACK                   0.158022\n",
              "3     204192600  STATEN ISLAND  ...          BLACK                   0.183236\n",
              "4     201483468          BRONX  ...          BLACK                   0.168506\n",
              "\n",
              "[5 rows x 23 columns]"
            ]
          },
          "metadata": {
            "tags": []
          },
          "execution_count": 155
        }
      ]
    },
    {
      "cell_type": "markdown",
      "metadata": {
        "id": "6Q_mw1Ou8g7x"
      },
      "source": [
        "Now to find the avg of each precinct within the Boros"
      ]
    },
    {
      "cell_type": "code",
      "metadata": {
        "colab": {
          "base_uri": "https://localhost:8080/",
          "height": 538
        },
        "id": "dmMgnOXr6PJs",
        "outputId": "799daa26-bf26-4fb4-c9c1-a8185193cc4e"
      },
      "source": [
        "precinct_avg_flag_df = shootings.groupby(['PRECINCT'], as_index=False).agg({\"STATISTICAL_MURDER_FLAG\": ['mean']})\n",
        "precinct_avg_flag_df"
      ],
      "execution_count": null,
      "outputs": [
        {
          "output_type": "execute_result",
          "data": {
            "text/html": [
              "<div>\n",
              "<style scoped>\n",
              "    .dataframe tbody tr th:only-of-type {\n",
              "        vertical-align: middle;\n",
              "    }\n",
              "\n",
              "    .dataframe tbody tr th {\n",
              "        vertical-align: top;\n",
              "    }\n",
              "\n",
              "    .dataframe thead tr th {\n",
              "        text-align: left;\n",
              "    }\n",
              "</style>\n",
              "<table border=\"1\" class=\"dataframe\">\n",
              "  <thead>\n",
              "    <tr>\n",
              "      <th></th>\n",
              "      <th>PRECINCT</th>\n",
              "      <th>STATISTICAL_MURDER_FLAG</th>\n",
              "    </tr>\n",
              "    <tr>\n",
              "      <th></th>\n",
              "      <th></th>\n",
              "      <th>mean</th>\n",
              "    </tr>\n",
              "  </thead>\n",
              "  <tbody>\n",
              "    <tr>\n",
              "      <th>0</th>\n",
              "      <td>1</td>\n",
              "      <td>0.307692</td>\n",
              "    </tr>\n",
              "    <tr>\n",
              "      <th>1</th>\n",
              "      <td>5</td>\n",
              "      <td>0.296296</td>\n",
              "    </tr>\n",
              "    <tr>\n",
              "      <th>2</th>\n",
              "      <td>6</td>\n",
              "      <td>0.235294</td>\n",
              "    </tr>\n",
              "    <tr>\n",
              "      <th>3</th>\n",
              "      <td>7</td>\n",
              "      <td>0.036364</td>\n",
              "    </tr>\n",
              "    <tr>\n",
              "      <th>4</th>\n",
              "      <td>9</td>\n",
              "      <td>0.184615</td>\n",
              "    </tr>\n",
              "    <tr>\n",
              "      <th>...</th>\n",
              "      <td>...</td>\n",
              "      <td>...</td>\n",
              "    </tr>\n",
              "    <tr>\n",
              "      <th>71</th>\n",
              "      <td>115</td>\n",
              "      <td>0.184466</td>\n",
              "    </tr>\n",
              "    <tr>\n",
              "      <th>72</th>\n",
              "      <td>120</td>\n",
              "      <td>0.159794</td>\n",
              "    </tr>\n",
              "    <tr>\n",
              "      <th>73</th>\n",
              "      <td>121</td>\n",
              "      <td>0.131148</td>\n",
              "    </tr>\n",
              "    <tr>\n",
              "      <th>74</th>\n",
              "      <td>122</td>\n",
              "      <td>0.422222</td>\n",
              "    </tr>\n",
              "    <tr>\n",
              "      <th>75</th>\n",
              "      <td>123</td>\n",
              "      <td>0.263158</td>\n",
              "    </tr>\n",
              "  </tbody>\n",
              "</table>\n",
              "<p>76 rows × 2 columns</p>\n",
              "</div>"
            ],
            "text/plain": [
              "   PRECINCT STATISTICAL_MURDER_FLAG\n",
              "                               mean\n",
              "0         1                0.307692\n",
              "1         5                0.296296\n",
              "2         6                0.235294\n",
              "3         7                0.036364\n",
              "4         9                0.184615\n",
              "..      ...                     ...\n",
              "71      115                0.184466\n",
              "72      120                0.159794\n",
              "73      121                0.131148\n",
              "74      122                0.422222\n",
              "75      123                0.263158\n",
              "\n",
              "[76 rows x 2 columns]"
            ]
          },
          "metadata": {
            "tags": []
          },
          "execution_count": 156
        }
      ]
    },
    {
      "cell_type": "markdown",
      "metadata": {
        "id": "Jv-w95iD8rmH"
      },
      "source": [
        "Rename the columns"
      ]
    },
    {
      "cell_type": "code",
      "metadata": {
        "id": "HwDZGHhW9J0Q"
      },
      "source": [
        "precinct_avg_flag_df.columns = ['PRECINCT', \"STAT_MURDER_FLAG_MEAN_PRECINCT\"]"
      ],
      "execution_count": null,
      "outputs": []
    },
    {
      "cell_type": "markdown",
      "metadata": {
        "id": "aqLi6Jcy91wF"
      },
      "source": [
        "Merge into shootings"
      ]
    },
    {
      "cell_type": "code",
      "metadata": {
        "colab": {
          "base_uri": "https://localhost:8080/",
          "height": 394
        },
        "id": "t9QgCLiY90xH",
        "outputId": "e5ad3a90-9944-402a-f667-2b633751194d"
      },
      "source": [
        "shootings = shootings.merge(precinct_avg_flag_df, left_on=\"PRECINCT\", right_on='PRECINCT', how='left')\n",
        "shootings.head()"
      ],
      "execution_count": null,
      "outputs": [
        {
          "output_type": "execute_result",
          "data": {
            "text/html": [
              "<div>\n",
              "<style scoped>\n",
              "    .dataframe tbody tr th:only-of-type {\n",
              "        vertical-align: middle;\n",
              "    }\n",
              "\n",
              "    .dataframe tbody tr th {\n",
              "        vertical-align: top;\n",
              "    }\n",
              "\n",
              "    .dataframe thead th {\n",
              "        text-align: right;\n",
              "    }\n",
              "</style>\n",
              "<table border=\"1\" class=\"dataframe\">\n",
              "  <thead>\n",
              "    <tr style=\"text-align: right;\">\n",
              "      <th></th>\n",
              "      <th>INCIDENT_KEY</th>\n",
              "      <th>BORO</th>\n",
              "      <th>PRECINCT</th>\n",
              "      <th>JURISDICTION_CODE</th>\n",
              "      <th>LOCATION_DESC</th>\n",
              "      <th>STATISTICAL_MURDER_FLAG</th>\n",
              "      <th>PERP_AGE_GROUP</th>\n",
              "      <th>PERP_SEX</th>\n",
              "      <th>PERP_RACE</th>\n",
              "      <th>VIC_AGE_GROUP</th>\n",
              "      <th>VIC_SEX</th>\n",
              "      <th>VIC_RACE</th>\n",
              "      <th>X_COORD_CD</th>\n",
              "      <th>Y_COORD_CD</th>\n",
              "      <th>Latitude</th>\n",
              "      <th>Longitude</th>\n",
              "      <th>Lon_Lat</th>\n",
              "      <th>OCCUR_DATETIME</th>\n",
              "      <th>WORST_PRECINCT</th>\n",
              "      <th>MOST_CONVICTED_AGE</th>\n",
              "      <th>MOST_PERP_RACE</th>\n",
              "      <th>MOST_VIC_RACE</th>\n",
              "      <th>STAT_MURDER_FLAG_MEAN_BORO</th>\n",
              "      <th>STAT_MURDER_FLAG_MEAN_PRECINCT</th>\n",
              "    </tr>\n",
              "  </thead>\n",
              "  <tbody>\n",
              "    <tr>\n",
              "      <th>0</th>\n",
              "      <td>201575314</td>\n",
              "      <td>QUEENS</td>\n",
              "      <td>103</td>\n",
              "      <td>0</td>\n",
              "      <td>Unknown</td>\n",
              "      <td>0</td>\n",
              "      <td>Unknown</td>\n",
              "      <td>Unknown</td>\n",
              "      <td>Unknown</td>\n",
              "      <td>25-44</td>\n",
              "      <td>M</td>\n",
              "      <td>BLACK</td>\n",
              "      <td>1037451</td>\n",
              "      <td>193561</td>\n",
              "      <td>40.697805</td>\n",
              "      <td>-73.808141</td>\n",
              "      <td>POINT (-73.80814071699996 40.697805308000056)</td>\n",
              "      <td>2019-08-23 22:10:00</td>\n",
              "      <td>113</td>\n",
              "      <td>18-24</td>\n",
              "      <td>BLACK</td>\n",
              "      <td>BLACK</td>\n",
              "      <td>0.184200</td>\n",
              "      <td>0.170483</td>\n",
              "    </tr>\n",
              "    <tr>\n",
              "      <th>1</th>\n",
              "      <td>205748546</td>\n",
              "      <td>BRONX</td>\n",
              "      <td>40</td>\n",
              "      <td>0</td>\n",
              "      <td>Unknown</td>\n",
              "      <td>0</td>\n",
              "      <td>&lt;18</td>\n",
              "      <td>M</td>\n",
              "      <td>BLACK</td>\n",
              "      <td>25-44</td>\n",
              "      <td>F</td>\n",
              "      <td>BLACK</td>\n",
              "      <td>1006789</td>\n",
              "      <td>237559</td>\n",
              "      <td>40.818700</td>\n",
              "      <td>-73.918571</td>\n",
              "      <td>POINT (-73.91857061799993 40.81869973000005)</td>\n",
              "      <td>2019-11-27 15:54:00</td>\n",
              "      <td>47</td>\n",
              "      <td>18-24</td>\n",
              "      <td>BLACK</td>\n",
              "      <td>BLACK</td>\n",
              "      <td>0.168506</td>\n",
              "      <td>0.159574</td>\n",
              "    </tr>\n",
              "    <tr>\n",
              "      <th>2</th>\n",
              "      <td>193118596</td>\n",
              "      <td>MANHATTAN</td>\n",
              "      <td>23</td>\n",
              "      <td>0</td>\n",
              "      <td>Unknown</td>\n",
              "      <td>0</td>\n",
              "      <td>18-24</td>\n",
              "      <td>M</td>\n",
              "      <td>WHITE HISPANIC</td>\n",
              "      <td>18-24</td>\n",
              "      <td>M</td>\n",
              "      <td>BLACK HISPANIC</td>\n",
              "      <td>999347</td>\n",
              "      <td>227795</td>\n",
              "      <td>40.791916</td>\n",
              "      <td>-73.945480</td>\n",
              "      <td>POINT (-73.94547965999999 40.791916091000076)</td>\n",
              "      <td>2019-02-02 19:40:00</td>\n",
              "      <td>32</td>\n",
              "      <td>18-24</td>\n",
              "      <td>BLACK</td>\n",
              "      <td>BLACK</td>\n",
              "      <td>0.158022</td>\n",
              "      <td>0.134948</td>\n",
              "    </tr>\n",
              "    <tr>\n",
              "      <th>3</th>\n",
              "      <td>204192600</td>\n",
              "      <td>STATEN ISLAND</td>\n",
              "      <td>121</td>\n",
              "      <td>0</td>\n",
              "      <td>PVT HOUSE</td>\n",
              "      <td>1</td>\n",
              "      <td>25-44</td>\n",
              "      <td>M</td>\n",
              "      <td>BLACK</td>\n",
              "      <td>25-44</td>\n",
              "      <td>F</td>\n",
              "      <td>BLACK</td>\n",
              "      <td>938149</td>\n",
              "      <td>171781</td>\n",
              "      <td>40.638064</td>\n",
              "      <td>-74.166108</td>\n",
              "      <td>POINT (-74.16610830199996 40.63806398200006)</td>\n",
              "      <td>2019-10-24 00:52:00</td>\n",
              "      <td>120</td>\n",
              "      <td>18-24</td>\n",
              "      <td>BLACK</td>\n",
              "      <td>BLACK</td>\n",
              "      <td>0.183236</td>\n",
              "      <td>0.131148</td>\n",
              "    </tr>\n",
              "    <tr>\n",
              "      <th>4</th>\n",
              "      <td>201483468</td>\n",
              "      <td>BRONX</td>\n",
              "      <td>46</td>\n",
              "      <td>0</td>\n",
              "      <td>Unknown</td>\n",
              "      <td>0</td>\n",
              "      <td>25-44</td>\n",
              "      <td>M</td>\n",
              "      <td>BLACK HISPANIC</td>\n",
              "      <td>18-24</td>\n",
              "      <td>M</td>\n",
              "      <td>BLACK</td>\n",
              "      <td>1008224</td>\n",
              "      <td>250621</td>\n",
              "      <td>40.854547</td>\n",
              "      <td>-73.913339</td>\n",
              "      <td>POINT (-73.91333944399999 40.85454734900003)</td>\n",
              "      <td>2019-08-22 18:03:00</td>\n",
              "      <td>47</td>\n",
              "      <td>18-24</td>\n",
              "      <td>BLACK</td>\n",
              "      <td>BLACK</td>\n",
              "      <td>0.168506</td>\n",
              "      <td>0.185874</td>\n",
              "    </tr>\n",
              "  </tbody>\n",
              "</table>\n",
              "</div>"
            ],
            "text/plain": [
              "   INCIDENT_KEY  ... STAT_MURDER_FLAG_MEAN_PRECINCT\n",
              "0     201575314  ...                       0.170483\n",
              "1     205748546  ...                       0.159574\n",
              "2     193118596  ...                       0.134948\n",
              "3     204192600  ...                       0.131148\n",
              "4     201483468  ...                       0.185874\n",
              "\n",
              "[5 rows x 24 columns]"
            ]
          },
          "metadata": {
            "tags": []
          },
          "execution_count": 158
        }
      ]
    },
    {
      "cell_type": "markdown",
      "metadata": {
        "id": "RV8L0ffa_X-O"
      },
      "source": [
        "Now to find if the Precinct is worse than the Boro's avg"
      ]
    },
    {
      "cell_type": "code",
      "metadata": {
        "id": "wxmJBnKi_qIQ"
      },
      "source": [
        "shootings['PRECINCT_MORE_MURDERS'] = np.where(shootings['STAT_MURDER_FLAG_MEAN_BORO'] < shootings['STAT_MURDER_FLAG_MEAN_PRECINCT'], 1, 0)"
      ],
      "execution_count": null,
      "outputs": []
    },
    {
      "cell_type": "code",
      "metadata": {
        "colab": {
          "base_uri": "https://localhost:8080/",
          "height": 847
        },
        "id": "EGtiLDrC-q8w",
        "outputId": "eb5bef11-9e64-4f69-b320-7b7e38179306"
      },
      "source": [
        "shootings"
      ],
      "execution_count": null,
      "outputs": [
        {
          "output_type": "execute_result",
          "data": {
            "text/html": [
              "<div>\n",
              "<style scoped>\n",
              "    .dataframe tbody tr th:only-of-type {\n",
              "        vertical-align: middle;\n",
              "    }\n",
              "\n",
              "    .dataframe tbody tr th {\n",
              "        vertical-align: top;\n",
              "    }\n",
              "\n",
              "    .dataframe thead th {\n",
              "        text-align: right;\n",
              "    }\n",
              "</style>\n",
              "<table border=\"1\" class=\"dataframe\">\n",
              "  <thead>\n",
              "    <tr style=\"text-align: right;\">\n",
              "      <th></th>\n",
              "      <th>INCIDENT_KEY</th>\n",
              "      <th>BORO</th>\n",
              "      <th>PRECINCT</th>\n",
              "      <th>JURISDICTION_CODE</th>\n",
              "      <th>LOCATION_DESC</th>\n",
              "      <th>STATISTICAL_MURDER_FLAG</th>\n",
              "      <th>PERP_AGE_GROUP</th>\n",
              "      <th>PERP_SEX</th>\n",
              "      <th>PERP_RACE</th>\n",
              "      <th>VIC_AGE_GROUP</th>\n",
              "      <th>VIC_SEX</th>\n",
              "      <th>VIC_RACE</th>\n",
              "      <th>X_COORD_CD</th>\n",
              "      <th>Y_COORD_CD</th>\n",
              "      <th>Latitude</th>\n",
              "      <th>Longitude</th>\n",
              "      <th>Lon_Lat</th>\n",
              "      <th>OCCUR_DATETIME</th>\n",
              "      <th>WORST_PRECINCT</th>\n",
              "      <th>MOST_CONVICTED_AGE</th>\n",
              "      <th>MOST_PERP_RACE</th>\n",
              "      <th>MOST_VIC_RACE</th>\n",
              "      <th>STAT_MURDER_FLAG_MEAN_BORO</th>\n",
              "      <th>STAT_MURDER_FLAG_MEAN_PRECINCT</th>\n",
              "      <th>PRECINCT_MORE_MURDERS</th>\n",
              "    </tr>\n",
              "  </thead>\n",
              "  <tbody>\n",
              "    <tr>\n",
              "      <th>0</th>\n",
              "      <td>201575314</td>\n",
              "      <td>QUEENS</td>\n",
              "      <td>103</td>\n",
              "      <td>0</td>\n",
              "      <td>Unknown</td>\n",
              "      <td>0</td>\n",
              "      <td>Unknown</td>\n",
              "      <td>Unknown</td>\n",
              "      <td>Unknown</td>\n",
              "      <td>25-44</td>\n",
              "      <td>M</td>\n",
              "      <td>BLACK</td>\n",
              "      <td>1037451</td>\n",
              "      <td>193561</td>\n",
              "      <td>40.697805</td>\n",
              "      <td>-73.808141</td>\n",
              "      <td>POINT (-73.80814071699996 40.697805308000056)</td>\n",
              "      <td>2019-08-23 22:10:00</td>\n",
              "      <td>113</td>\n",
              "      <td>18-24</td>\n",
              "      <td>BLACK</td>\n",
              "      <td>BLACK</td>\n",
              "      <td>0.184200</td>\n",
              "      <td>0.170483</td>\n",
              "      <td>0</td>\n",
              "    </tr>\n",
              "    <tr>\n",
              "      <th>1</th>\n",
              "      <td>205748546</td>\n",
              "      <td>BRONX</td>\n",
              "      <td>40</td>\n",
              "      <td>0</td>\n",
              "      <td>Unknown</td>\n",
              "      <td>0</td>\n",
              "      <td>&lt;18</td>\n",
              "      <td>M</td>\n",
              "      <td>BLACK</td>\n",
              "      <td>25-44</td>\n",
              "      <td>F</td>\n",
              "      <td>BLACK</td>\n",
              "      <td>1006789</td>\n",
              "      <td>237559</td>\n",
              "      <td>40.818700</td>\n",
              "      <td>-73.918571</td>\n",
              "      <td>POINT (-73.91857061799993 40.81869973000005)</td>\n",
              "      <td>2019-11-27 15:54:00</td>\n",
              "      <td>47</td>\n",
              "      <td>18-24</td>\n",
              "      <td>BLACK</td>\n",
              "      <td>BLACK</td>\n",
              "      <td>0.168506</td>\n",
              "      <td>0.159574</td>\n",
              "      <td>0</td>\n",
              "    </tr>\n",
              "    <tr>\n",
              "      <th>2</th>\n",
              "      <td>193118596</td>\n",
              "      <td>MANHATTAN</td>\n",
              "      <td>23</td>\n",
              "      <td>0</td>\n",
              "      <td>Unknown</td>\n",
              "      <td>0</td>\n",
              "      <td>18-24</td>\n",
              "      <td>M</td>\n",
              "      <td>WHITE HISPANIC</td>\n",
              "      <td>18-24</td>\n",
              "      <td>M</td>\n",
              "      <td>BLACK HISPANIC</td>\n",
              "      <td>999347</td>\n",
              "      <td>227795</td>\n",
              "      <td>40.791916</td>\n",
              "      <td>-73.945480</td>\n",
              "      <td>POINT (-73.94547965999999 40.791916091000076)</td>\n",
              "      <td>2019-02-02 19:40:00</td>\n",
              "      <td>32</td>\n",
              "      <td>18-24</td>\n",
              "      <td>BLACK</td>\n",
              "      <td>BLACK</td>\n",
              "      <td>0.158022</td>\n",
              "      <td>0.134948</td>\n",
              "      <td>0</td>\n",
              "    </tr>\n",
              "    <tr>\n",
              "      <th>3</th>\n",
              "      <td>204192600</td>\n",
              "      <td>STATEN ISLAND</td>\n",
              "      <td>121</td>\n",
              "      <td>0</td>\n",
              "      <td>PVT HOUSE</td>\n",
              "      <td>1</td>\n",
              "      <td>25-44</td>\n",
              "      <td>M</td>\n",
              "      <td>BLACK</td>\n",
              "      <td>25-44</td>\n",
              "      <td>F</td>\n",
              "      <td>BLACK</td>\n",
              "      <td>938149</td>\n",
              "      <td>171781</td>\n",
              "      <td>40.638064</td>\n",
              "      <td>-74.166108</td>\n",
              "      <td>POINT (-74.16610830199996 40.63806398200006)</td>\n",
              "      <td>2019-10-24 00:52:00</td>\n",
              "      <td>120</td>\n",
              "      <td>18-24</td>\n",
              "      <td>BLACK</td>\n",
              "      <td>BLACK</td>\n",
              "      <td>0.183236</td>\n",
              "      <td>0.131148</td>\n",
              "      <td>0</td>\n",
              "    </tr>\n",
              "    <tr>\n",
              "      <th>4</th>\n",
              "      <td>201483468</td>\n",
              "      <td>BRONX</td>\n",
              "      <td>46</td>\n",
              "      <td>0</td>\n",
              "      <td>Unknown</td>\n",
              "      <td>0</td>\n",
              "      <td>25-44</td>\n",
              "      <td>M</td>\n",
              "      <td>BLACK HISPANIC</td>\n",
              "      <td>18-24</td>\n",
              "      <td>M</td>\n",
              "      <td>BLACK</td>\n",
              "      <td>1008224</td>\n",
              "      <td>250621</td>\n",
              "      <td>40.854547</td>\n",
              "      <td>-73.913339</td>\n",
              "      <td>POINT (-73.91333944399999 40.85454734900003)</td>\n",
              "      <td>2019-08-22 18:03:00</td>\n",
              "      <td>47</td>\n",
              "      <td>18-24</td>\n",
              "      <td>BLACK</td>\n",
              "      <td>BLACK</td>\n",
              "      <td>0.168506</td>\n",
              "      <td>0.185874</td>\n",
              "      <td>1</td>\n",
              "    </tr>\n",
              "    <tr>\n",
              "      <th>...</th>\n",
              "      <td>...</td>\n",
              "      <td>...</td>\n",
              "      <td>...</td>\n",
              "      <td>...</td>\n",
              "      <td>...</td>\n",
              "      <td>...</td>\n",
              "      <td>...</td>\n",
              "      <td>...</td>\n",
              "      <td>...</td>\n",
              "      <td>...</td>\n",
              "      <td>...</td>\n",
              "      <td>...</td>\n",
              "      <td>...</td>\n",
              "      <td>...</td>\n",
              "      <td>...</td>\n",
              "      <td>...</td>\n",
              "      <td>...</td>\n",
              "      <td>...</td>\n",
              "      <td>...</td>\n",
              "      <td>...</td>\n",
              "      <td>...</td>\n",
              "      <td>...</td>\n",
              "      <td>...</td>\n",
              "      <td>...</td>\n",
              "      <td>...</td>\n",
              "    </tr>\n",
              "    <tr>\n",
              "      <th>17026</th>\n",
              "      <td>142091388</td>\n",
              "      <td>QUEENS</td>\n",
              "      <td>113</td>\n",
              "      <td>0</td>\n",
              "      <td>Unknown</td>\n",
              "      <td>0</td>\n",
              "      <td>Unknown</td>\n",
              "      <td>Unknown</td>\n",
              "      <td>Unknown</td>\n",
              "      <td>18-24</td>\n",
              "      <td>M</td>\n",
              "      <td>BLACK</td>\n",
              "      <td>1046624</td>\n",
              "      <td>184398</td>\n",
              "      <td>40.672595</td>\n",
              "      <td>-73.775145</td>\n",
              "      <td>POINT (-73.77514474599997 40.67259514700004)</td>\n",
              "      <td>2015-04-13 00:12:00</td>\n",
              "      <td>113</td>\n",
              "      <td>18-24</td>\n",
              "      <td>BLACK</td>\n",
              "      <td>BLACK</td>\n",
              "      <td>0.184200</td>\n",
              "      <td>0.190654</td>\n",
              "      <td>1</td>\n",
              "    </tr>\n",
              "    <tr>\n",
              "      <th>17027</th>\n",
              "      <td>109291971</td>\n",
              "      <td>BROOKLYN</td>\n",
              "      <td>81</td>\n",
              "      <td>0</td>\n",
              "      <td>MULTI DWELL - APT BUILD</td>\n",
              "      <td>0</td>\n",
              "      <td>Unknown</td>\n",
              "      <td>Unknown</td>\n",
              "      <td>Unknown</td>\n",
              "      <td>18-24</td>\n",
              "      <td>M</td>\n",
              "      <td>BLACK</td>\n",
              "      <td>1003656</td>\n",
              "      <td>187150</td>\n",
              "      <td>40.680347</td>\n",
              "      <td>-73.930035</td>\n",
              "      <td>POINT (-73.93003524099998 40.68034722300007)</td>\n",
              "      <td>2014-03-26 16:23:00</td>\n",
              "      <td>75</td>\n",
              "      <td>18-24</td>\n",
              "      <td>BLACK</td>\n",
              "      <td>BLACK</td>\n",
              "      <td>0.178681</td>\n",
              "      <td>0.183303</td>\n",
              "      <td>1</td>\n",
              "    </tr>\n",
              "    <tr>\n",
              "      <th>17028</th>\n",
              "      <td>25170411</td>\n",
              "      <td>MANHATTAN</td>\n",
              "      <td>28</td>\n",
              "      <td>0</td>\n",
              "      <td>MULTI DWELL - APT BUILD</td>\n",
              "      <td>1</td>\n",
              "      <td>Unknown</td>\n",
              "      <td>Unknown</td>\n",
              "      <td>Unknown</td>\n",
              "      <td>25-44</td>\n",
              "      <td>M</td>\n",
              "      <td>BLACK</td>\n",
              "      <td>999934</td>\n",
              "      <td>233568</td>\n",
              "      <td>40.807760</td>\n",
              "      <td>-73.943346</td>\n",
              "      <td>POINT (-73.943346267 40.80776037800007)</td>\n",
              "      <td>2006-11-05 04:50:00</td>\n",
              "      <td>32</td>\n",
              "      <td>18-24</td>\n",
              "      <td>BLACK</td>\n",
              "      <td>BLACK</td>\n",
              "      <td>0.158022</td>\n",
              "      <td>0.170507</td>\n",
              "      <td>1</td>\n",
              "    </tr>\n",
              "    <tr>\n",
              "      <th>17029</th>\n",
              "      <td>63381856</td>\n",
              "      <td>BROOKLYN</td>\n",
              "      <td>67</td>\n",
              "      <td>0</td>\n",
              "      <td>Unknown</td>\n",
              "      <td>0</td>\n",
              "      <td>25-44</td>\n",
              "      <td>M</td>\n",
              "      <td>BLACK</td>\n",
              "      <td>25-44</td>\n",
              "      <td>M</td>\n",
              "      <td>BLACK</td>\n",
              "      <td>998387</td>\n",
              "      <td>174639</td>\n",
              "      <td>40.646017</td>\n",
              "      <td>-73.949058</td>\n",
              "      <td>POINT (-73.94905826799999 40.646017278000045)</td>\n",
              "      <td>2009-07-04 16:00:00</td>\n",
              "      <td>75</td>\n",
              "      <td>18-24</td>\n",
              "      <td>BLACK</td>\n",
              "      <td>BLACK</td>\n",
              "      <td>0.178681</td>\n",
              "      <td>0.176123</td>\n",
              "      <td>0</td>\n",
              "    </tr>\n",
              "    <tr>\n",
              "      <th>17030</th>\n",
              "      <td>92673375</td>\n",
              "      <td>MANHATTAN</td>\n",
              "      <td>24</td>\n",
              "      <td>0</td>\n",
              "      <td>MULTI DWELL - PUBLIC HOUS</td>\n",
              "      <td>1</td>\n",
              "      <td>Unknown</td>\n",
              "      <td>Unknown</td>\n",
              "      <td>Unknown</td>\n",
              "      <td>45-64</td>\n",
              "      <td>M</td>\n",
              "      <td>WHITE HISPANIC</td>\n",
              "      <td>993290</td>\n",
              "      <td>230079</td>\n",
              "      <td>40.798193</td>\n",
              "      <td>-73.967351</td>\n",
              "      <td>POINT (-73.96735102799995 40.798193324000074)</td>\n",
              "      <td>2013-09-17 08:08:00</td>\n",
              "      <td>32</td>\n",
              "      <td>18-24</td>\n",
              "      <td>BLACK</td>\n",
              "      <td>BLACK</td>\n",
              "      <td>0.158022</td>\n",
              "      <td>0.216667</td>\n",
              "      <td>1</td>\n",
              "    </tr>\n",
              "  </tbody>\n",
              "</table>\n",
              "<p>17031 rows × 25 columns</p>\n",
              "</div>"
            ],
            "text/plain": [
              "       INCIDENT_KEY  ... PRECINCT_MORE_MURDERS\n",
              "0         201575314  ...                     0\n",
              "1         205748546  ...                     0\n",
              "2         193118596  ...                     0\n",
              "3         204192600  ...                     0\n",
              "4         201483468  ...                     1\n",
              "...             ...  ...                   ...\n",
              "17026     142091388  ...                     1\n",
              "17027     109291971  ...                     1\n",
              "17028      25170411  ...                     1\n",
              "17029      63381856  ...                     0\n",
              "17030      92673375  ...                     1\n",
              "\n",
              "[17031 rows x 25 columns]"
            ]
          },
          "metadata": {
            "tags": []
          },
          "execution_count": 160
        }
      ]
    },
    {
      "cell_type": "markdown",
      "metadata": {
        "id": "6F1eCoP4UOiY"
      },
      "source": [
        "## Normalize your data for loads\n",
        " \n",
        "Break down the data you transformed into normalized tables that you'll then push to your database. Start by describing what tables you want to create in a text cell, then create those tables in code cells.\n"
      ]
    },
    {
      "cell_type": "markdown",
      "metadata": {
        "id": "qg9TA0O6C25Z"
      },
      "source": [
        "##Roadmap\n",
        "###Location Table\n",
        "Table has all information pertaining to the location\n",
        "###People Table\n",
        "Table has all information about the people involved in the case\n",
        "###Time Table\n",
        "Table has datetime in it and Boro/Precinct\n"
      ]
    },
    {
      "cell_type": "markdown",
      "metadata": {
        "id": "TImYGQTDM9yH"
      },
      "source": [
        "Create Tables"
      ]
    },
    {
      "cell_type": "code",
      "metadata": {
        "id": "_ZwFFAwNU0FI"
      },
      "source": [
        "location = shootings.loc[:, [\"INCIDENT_KEY\", \"BORO\", \"PRECINCT\", \"JURISDICTION_CODE\", \"LOCATION_DESC\", \"STATISTICAL_MURDER_FLAG\", \"X_COORD_CD\", \"Y_COORD_CD\", \"Latitude\", \"Longitude\", \"WORST_PRECINCT\", \"STAT_MURDER_FLAG_MEAN_BORO\", \"STAT_MURDER_FLAG_MEAN_PRECINCT\",  \"PRECINCT_MORE_MURDERS\" ]]\n",
        "people = shootings.loc[:, [\"INCIDENT_KEY\", \"PERP_AGE_GROUP\", \"PERP_SEX\", \"PERP_RACE\", \"VIC_AGE_GROUP\", \"VIC_SEX\", \"VIC_RACE\", \"MOST_CONVICTED_AGE\", \"MOST_PERP_RACE\", \"MOST_VIC_RACE\"]]\n",
        "time = shootings.loc[:, [\"INCIDENT_KEY\", \"BORO\", \"PRECINCT\", \"OCCUR_DATETIME\"]]"
      ],
      "execution_count": null,
      "outputs": []
    },
    {
      "cell_type": "markdown",
      "metadata": {
        "id": "Fm0FXd0kN_Z1"
      },
      "source": [
        "Check to see if it worked"
      ]
    },
    {
      "cell_type": "code",
      "metadata": {
        "colab": {
          "base_uri": "https://localhost:8080/",
          "height": 394
        },
        "id": "0GUVovUBN7cY",
        "outputId": "8c73e452-f044-4694-cbeb-067d47d33970"
      },
      "source": [
        "location.head()"
      ],
      "execution_count": null,
      "outputs": [
        {
          "output_type": "execute_result",
          "data": {
            "text/html": [
              "<div>\n",
              "<style scoped>\n",
              "    .dataframe tbody tr th:only-of-type {\n",
              "        vertical-align: middle;\n",
              "    }\n",
              "\n",
              "    .dataframe tbody tr th {\n",
              "        vertical-align: top;\n",
              "    }\n",
              "\n",
              "    .dataframe thead th {\n",
              "        text-align: right;\n",
              "    }\n",
              "</style>\n",
              "<table border=\"1\" class=\"dataframe\">\n",
              "  <thead>\n",
              "    <tr style=\"text-align: right;\">\n",
              "      <th></th>\n",
              "      <th>INCIDENT_KEY</th>\n",
              "      <th>BORO</th>\n",
              "      <th>PRECINCT</th>\n",
              "      <th>JURISDICTION_CODE</th>\n",
              "      <th>LOCATION_DESC</th>\n",
              "      <th>STATISTICAL_MURDER_FLAG</th>\n",
              "      <th>X_COORD_CD</th>\n",
              "      <th>Y_COORD_CD</th>\n",
              "      <th>Latitude</th>\n",
              "      <th>Longitude</th>\n",
              "      <th>Lon_Lat</th>\n",
              "      <th>WORST_PRECINCT</th>\n",
              "      <th>STAT_MURDER_FLAG_MEAN_BORO</th>\n",
              "      <th>STAT_MURDER_FLAG_MEAN_PRECINCT</th>\n",
              "      <th>PRECINCT_MORE_MURDERS</th>\n",
              "    </tr>\n",
              "  </thead>\n",
              "  <tbody>\n",
              "    <tr>\n",
              "      <th>0</th>\n",
              "      <td>201575314</td>\n",
              "      <td>QUEENS</td>\n",
              "      <td>103</td>\n",
              "      <td>0</td>\n",
              "      <td>Unknown</td>\n",
              "      <td>0</td>\n",
              "      <td>1037451</td>\n",
              "      <td>193561</td>\n",
              "      <td>40.697805</td>\n",
              "      <td>-73.808141</td>\n",
              "      <td>POINT (-73.80814071699996 40.697805308000056)</td>\n",
              "      <td>113</td>\n",
              "      <td>0.198760</td>\n",
              "      <td>0.175476</td>\n",
              "      <td>0</td>\n",
              "    </tr>\n",
              "    <tr>\n",
              "      <th>1</th>\n",
              "      <td>205748546</td>\n",
              "      <td>BRONX</td>\n",
              "      <td>40</td>\n",
              "      <td>0</td>\n",
              "      <td>Unknown</td>\n",
              "      <td>0</td>\n",
              "      <td>1006789</td>\n",
              "      <td>237559</td>\n",
              "      <td>40.818700</td>\n",
              "      <td>-73.918571</td>\n",
              "      <td>POINT (-73.91857061799993 40.81869973000005)</td>\n",
              "      <td>44</td>\n",
              "      <td>0.186925</td>\n",
              "      <td>0.176301</td>\n",
              "      <td>0</td>\n",
              "    </tr>\n",
              "    <tr>\n",
              "      <th>2</th>\n",
              "      <td>193118596</td>\n",
              "      <td>MANHATTAN</td>\n",
              "      <td>23</td>\n",
              "      <td>0</td>\n",
              "      <td>Unknown</td>\n",
              "      <td>0</td>\n",
              "      <td>999347</td>\n",
              "      <td>227795</td>\n",
              "      <td>40.791916</td>\n",
              "      <td>-73.945480</td>\n",
              "      <td>POINT (-73.94547965999999 40.791916091000076)</td>\n",
              "      <td>32</td>\n",
              "      <td>0.176048</td>\n",
              "      <td>0.168000</td>\n",
              "      <td>0</td>\n",
              "    </tr>\n",
              "    <tr>\n",
              "      <th>3</th>\n",
              "      <td>204192600</td>\n",
              "      <td>STATEN ISLAND</td>\n",
              "      <td>121</td>\n",
              "      <td>0</td>\n",
              "      <td>PVT HOUSE</td>\n",
              "      <td>1</td>\n",
              "      <td>938149</td>\n",
              "      <td>171781</td>\n",
              "      <td>40.638064</td>\n",
              "      <td>-74.166108</td>\n",
              "      <td>POINT (-74.16610830199996 40.63806398200006)</td>\n",
              "      <td>120</td>\n",
              "      <td>0.196594</td>\n",
              "      <td>0.157895</td>\n",
              "      <td>0</td>\n",
              "    </tr>\n",
              "    <tr>\n",
              "      <th>4</th>\n",
              "      <td>201483468</td>\n",
              "      <td>BRONX</td>\n",
              "      <td>46</td>\n",
              "      <td>0</td>\n",
              "      <td>Unknown</td>\n",
              "      <td>0</td>\n",
              "      <td>1008224</td>\n",
              "      <td>250621</td>\n",
              "      <td>40.854547</td>\n",
              "      <td>-73.913339</td>\n",
              "      <td>POINT (-73.91333944399999 40.85454734900003)</td>\n",
              "      <td>44</td>\n",
              "      <td>0.186925</td>\n",
              "      <td>0.194787</td>\n",
              "      <td>1</td>\n",
              "    </tr>\n",
              "  </tbody>\n",
              "</table>\n",
              "</div>"
            ],
            "text/plain": [
              "   INCIDENT_KEY  ... PRECINCT_MORE_MURDERS\n",
              "0     201575314  ...                     0\n",
              "1     205748546  ...                     0\n",
              "2     193118596  ...                     0\n",
              "3     204192600  ...                     0\n",
              "4     201483468  ...                     1\n",
              "\n",
              "[5 rows x 15 columns]"
            ]
          },
          "metadata": {
            "tags": []
          },
          "execution_count": 41
        }
      ]
    },
    {
      "cell_type": "markdown",
      "metadata": {
        "id": "QgbpAETVB5Os"
      },
      "source": [
        "This Column really does not do anything, so we will drop it here"
      ]
    },
    {
      "cell_type": "code",
      "metadata": {
        "id": "0DvQ8PNW-Rhp"
      },
      "source": [
        "del shootings[\"Lon_Lat\"]"
      ],
      "execution_count": null,
      "outputs": []
    },
    {
      "cell_type": "markdown",
      "metadata": {
        "id": "uEhtj0b0Uy2v"
      },
      "source": [
        "## Load to database\n",
        " \n",
        "First, set up your database on AWS like we did previously.  Then set up a connection and cursor function with your credentials so you and I can access it.\n",
        " \n",
        "Once that is done build the appropriate tables, prepare your data, and load them into the databases.\n"
      ]
    },
    {
      "cell_type": "markdown",
      "metadata": {
        "id": "vzDTPePbOfwR"
      },
      "source": [
        "###AWS Functions"
      ]
    },
    {
      "cell_type": "code",
      "metadata": {
        "id": "s8ttjyo8VP2v"
      },
      "source": [
        "# Make our connection/cursor function \n",
        "import re\n",
        "import psycopg2\n",
        "def get_conn_cur(): # define function name and arguments (there aren't any)\n",
        "  # Make a connection\n",
        "  conn = psycopg2.connect(\n",
        "    host=\"test-hw-db.cbwzd4sspanz.us-east-1.rds.amazonaws.com\",\n",
        "    database=\"ISTA332DE\",\n",
        "    user=\"mgleason17\",\n",
        "    password=\"am21TuZH\",\n",
        "    port='5432')\n",
        "  \n",
        "  cur = conn.cursor()   # Make a cursor after\n",
        "\n",
        "  return(conn, cur)   # Return both the connection and the cursor\n",
        "\n",
        "# Same run_query function\n",
        "def run_query(query_string):\n",
        "\n",
        "  conn, cur = get_conn_cur() # get connection and cursor\n",
        "\n",
        "  cur.execute(query_string) # executing string as before\n",
        "\n",
        "  my_data = cur.fetchall() # fetch query data as before\n",
        "\n",
        "  # here we're extracting the 0th element for each item in cur.description\n",
        "  colnames = [desc[0] for desc in cur.description]\n",
        "\n",
        "  cur.close() # close\n",
        "  conn.close() # close\n",
        "\n",
        "  return(colnames, my_data) # return column names AND data\n",
        "\n",
        "# Column name function for checking out what's in a table\n",
        "def get_column_names(table_name): # arguement of table_name\n",
        "  conn, cur = get_conn_cur() # get connection and cursor\n",
        "\n",
        "  # Now select column names while inserting the table name into the WERE\n",
        "  column_name_query =  \"\"\"SELECT column_name FROM information_schema.columns\n",
        "       WHERE table_name = '%s' \"\"\" %table_name\n",
        "\n",
        "  cur.execute(column_name_query) # exectue\n",
        "  my_data = cur.fetchall() # store\n",
        "\n",
        "  cur.close() # close\n",
        "  conn.close() # close\n",
        "\n",
        "  return(my_data) # return\n",
        "\n",
        "# Check table_names\n",
        "def get_table_names():\n",
        "  conn, cur = get_conn_cur() # get connection and cursor\n",
        "\n",
        "  # query to get table names\n",
        "  table_name_query = \"\"\"SELECT table_name FROM information_schema.tables\n",
        "       WHERE table_schema = 'public' \"\"\"\n",
        "\n",
        "  cur.execute(table_name_query) # execute\n",
        "  my_data = cur.fetchall() # fetch results\n",
        "\n",
        "  cur.close() #close cursor\n",
        "  conn.close() # close connection\n",
        "\n",
        "  return(my_data) # return your fetched results\n",
        "def sql_head(table_name):\n",
        "  string = \"SELECT  * FROM \" + table_name + \" LIMIT 5;\"\n",
        "  return run_query(string)"
      ],
      "execution_count": null,
      "outputs": []
    },
    {
      "cell_type": "markdown",
      "metadata": {
        "id": "UFVVNIMoQGz6"
      },
      "source": [
        "Make shootings table"
      ]
    },
    {
      "cell_type": "code",
      "metadata": {
        "id": "ZWKHe3xiOmkA"
      },
      "source": [
        "conn, cur = get_conn_cur()\n",
        "tq = \"\"\"CREATE TABLE shootings (\n",
        "          INCIDENT_KEY INTEGER PRIMARY KEY,\n",
        "          BORO VARCHAR(255)  NOT NULL,\n",
        "          PRECINCT INTEGER NOT NULL,\n",
        "          JURISDICTION_CODE VARCHAR(255) NOT NULL,\n",
        "          LOCATION_DESC VARCHAR(255) NOT NULL,\n",
        "          STATISTICAL_MURDER_FLAG INTEGER NOT NULL,\n",
        "          PERP_AGE_GROUP VARCHAR(255) NOT NULL,\n",
        "          PERP_SEX VARCHAR(255) NOT NULL,\n",
        "          PERP_RACE VARCHAR(255) NOT NULL,\n",
        "          VIC_AGE_GROUP VARCHAR(255) NOT NULL,\n",
        "          VIC_SEX VARCHAR(255) NOT NULL,\n",
        "          VIC_RACE VARCHAR(255) NOT NULL,\n",
        "          X_COORD_CD VARCHAR(255) NOT NULL,\n",
        "          Y_COORD_CD VARCHAR(255) NOT NULL,\n",
        "          Latitude FLOAT NOT NULL,\n",
        "          Longitude FLOAT NOT NULL,\n",
        "          OCCUR_DATETIME timestamp NOT NULL,\n",
        "          WORST_PRECINCT INTEGER NOT NULL,\n",
        "          MOST_CONVICTED_AGE VARCHAR(255) NOT NULL,\n",
        "          MOST_PERP_RACE VARCHAR(255) NOT NULL,\n",
        "          MOST_VIC_RACE VARCHAR(255) NOT NULL,\n",
        "          STAT_MURDER_FLAG_MEAN_BORO FLOAT NOT NULL,\n",
        "          STAT_MURDER_FLAG_MEAN_PRECINCT FLOAT NOT NULL,\n",
        "          PRECINCT_MORE_MURDERS INTEGER NOT NULL\n",
        "\n",
        "          );\"\"\"\n",
        "cur.execute(tq)\n",
        "conn.commit()"
      ],
      "execution_count": null,
      "outputs": []
    },
    {
      "cell_type": "markdown",
      "metadata": {
        "id": "XzT655TESf7B"
      },
      "source": [
        "Load data in"
      ]
    },
    {
      "cell_type": "code",
      "metadata": {
        "id": "EOu44ycfSelD"
      },
      "source": [
        "data_tups = [tuple(x) for x in shootings.to_numpy()]\n",
        "\n",
        "iq = \"\"\"INSERT INTO shootings(INCIDENT_KEY, BORO, PRECINCT, JURISDICTION_CODE,\n",
        "       LOCATION_DESC, STATISTICAL_MURDER_FLAG, PERP_AGE_GROUP,\n",
        "       PERP_SEX, PERP_RACE, VIC_AGE_GROUP, VIC_SEX, VIC_RACE,\n",
        "       X_COORD_CD, Y_COORD_CD, Latitude, Longitude,\n",
        "       OCCUR_DATETIME, WORST_PRECINCT, MOST_CONVICTED_AGE,\n",
        "       MOST_PERP_RACE, MOST_VIC_RACE, STAT_MURDER_FLAG_MEAN_BORO,\n",
        "       STAT_MURDER_FLAG_MEAN_PRECINCT, PRECINCT_MORE_MURDERS) VALUES(%s, %s, %s, %s, %s, %s, %s, %s, %s, %s, %s, %s, %s, %s, %s, %s, %s, %s, %s, %s, %s, %s, %s, %s);\"\"\"\n",
        "con, cur =  get_conn_cur()\n",
        "cur.executemany(iq, data_tups)\n",
        "con.commit()"
      ],
      "execution_count": null,
      "outputs": []
    },
    {
      "cell_type": "markdown",
      "metadata": {
        "id": "TsVO_7K_0JiC"
      },
      "source": [
        "Create locations table"
      ]
    },
    {
      "cell_type": "code",
      "metadata": {
        "id": "dBH0OUSR0SsP"
      },
      "source": [
        "conn, cur = get_conn_cur()\n",
        "tq = \"\"\"CREATE TABLE location (\n",
        "          INCIDENT_KEY INTEGER PRIMARY KEY,\n",
        "          BORO VARCHAR(255)  NOT NULL,\n",
        "          PRECINCT INTEGER NOT NULL,\n",
        "          JURISDICTION_CODE VARCHAR(255) NOT NULL,\n",
        "          LOCATION_DESC VARCHAR(255) NOT NULL,\n",
        "          STATISTICAL_MURDER_FLAG INTEGER NOT NULL,\n",
        "          X_COORD_CD VARCHAR(255) NOT NULL,\n",
        "          Y_COORD_CD VARCHAR(255) NOT NULL,\n",
        "          Latitude FLOAT NOT NULL,\n",
        "          Longitude FLOAT NOT NULL,\n",
        "          WORST_PRECINCT INTEGER NOT NULL,\n",
        "          STAT_MURDER_FLAG_MEAN_BORO FLOAT NOT NULL,\n",
        "          STAT_MURDER_FLAG_MEAN_PRECINCT FLOAT NOT NULL,\n",
        "          PRECINCT_MORE_MURDERS INTEGER NOT NULL\n",
        "\n",
        "          );\"\"\"\n",
        "cur.execute(tq)\n",
        "conn.commit()"
      ],
      "execution_count": null,
      "outputs": []
    },
    {
      "cell_type": "markdown",
      "metadata": {
        "id": "2yN7vYeQ04OH"
      },
      "source": [
        "Insert the values into the table"
      ]
    },
    {
      "cell_type": "code",
      "metadata": {
        "colab": {
          "background_save": true
        },
        "id": "vxVEci1T0LXH"
      },
      "source": [
        "data_tups = [tuple(x) for x in location.to_numpy()]\n",
        "iq = \"\"\"INSERT INTO location(INCIDENT_KEY, BORO, PRECINCT, JURISDICTION_CODE,\n",
        "       LOCATION_DESC, STATISTICAL_MURDER_FLAG,\n",
        "       X_COORD_CD, Y_COORD_CD, Latitude, Longitude,\n",
        "       WORST_PRECINCT, STAT_MURDER_FLAG_MEAN_BORO,\n",
        "       STAT_MURDER_FLAG_MEAN_PRECINCT, PRECINCT_MORE_MURDERS) VALUES(%s, %s, %s, %s, %s, %s, %s, %s, %s, %s, %s, %s, %s, %s);\"\"\" \n",
        "con, cur =  get_conn_cur()\n",
        "cur.executemany(iq, data_tups)\n",
        "con.commit()"
      ],
      "execution_count": null,
      "outputs": []
    },
    {
      "cell_type": "markdown",
      "metadata": {
        "id": "E_M16DkU06ot"
      },
      "source": [
        "Create person table"
      ]
    },
    {
      "cell_type": "code",
      "metadata": {
        "id": "vxCRzYd109jH"
      },
      "source": [
        "conn, cur = get_conn_cur()\n",
        "tq = \"\"\"CREATE TABLE persons (\n",
        "          INCIDENT_KEY INTEGER PRIMARY KEY,\n",
        "          PERP_AGE_GROUP VARCHAR(255) NOT NULL,\n",
        "          PERP_SEX VARCHAR(255) NOT NULL,\n",
        "          PERP_RACE VARCHAR(255) NOT NULL,\n",
        "          VIC_AGE_GROUP VARCHAR(255) NOT NULL,\n",
        "          VIC_SEX VARCHAR(255) NOT NULL,\n",
        "          VIC_RACE VARCHAR(255) NOT NULL,\n",
        "          MOST_CONVICTED_AGE VARCHAR(255) NOT NULL,\n",
        "          MOST_PERP_RACE VARCHAR(255) NOT NULL,\n",
        "          MOST_VIC_RACE VARCHAR(255) NOT NULL\n",
        "\n",
        "          );\"\"\"\n",
        "cur.execute(tq)\n",
        "conn.commit()"
      ],
      "execution_count": null,
      "outputs": []
    },
    {
      "cell_type": "code",
      "metadata": {
        "colab": {
          "base_uri": "https://localhost:8080/"
        },
        "id": "ZT09R5hy1_1i",
        "outputId": "8681c609-0b83-41e7-8a24-84fcb980ca0d"
      },
      "source": [
        "people.shape"
      ],
      "execution_count": null,
      "outputs": [
        {
          "output_type": "execute_result",
          "data": {
            "text/plain": [
              "(17031, 10)"
            ]
          },
          "metadata": {
            "tags": []
          },
          "execution_count": 166
        }
      ]
    },
    {
      "cell_type": "markdown",
      "metadata": {
        "id": "QnxI31WT1wcL"
      },
      "source": [
        "Insert Values"
      ]
    },
    {
      "cell_type": "code",
      "metadata": {
        "id": "Hor08yof1y-v"
      },
      "source": [
        "data_tups = [tuple(x) for x in people.to_numpy()]\n",
        "iq = \"\"\"INSERT INTO persons(INCIDENT_KEY, PERP_AGE_GROUP,\n",
        "       PERP_SEX, PERP_RACE, VIC_AGE_GROUP, VIC_SEX, VIC_RACE,\n",
        "       MOST_CONVICTED_AGE,\n",
        "       MOST_PERP_RACE, MOST_VIC_RACE) VALUES(%s, %s, %s, %s, %s, %s, %s, %s, %s, %s);\"\"\" \n",
        "con, cur =  get_conn_cur()\n",
        "cur.executemany(iq, data_tups)\n",
        "con.commit()"
      ],
      "execution_count": null,
      "outputs": []
    },
    {
      "cell_type": "markdown",
      "metadata": {
        "id": "H9LnCUvG388-"
      },
      "source": [
        "Create time table"
      ]
    },
    {
      "cell_type": "code",
      "metadata": {
        "id": "wWlx97lP3-iB"
      },
      "source": [
        "conn, cur = get_conn_cur()\n",
        "tq = \"\"\"CREATE TABLE time (\n",
        "          INCIDENT_KEY INTEGER PRIMARY KEY,\n",
        "          BORO VARCHAR(255)  NOT NULL,\n",
        "          PRECINCT INTEGER NOT NULL,\n",
        "          OCCUR_DATETIME timestamp NOT NULL\n",
        "\n",
        "          );\"\"\"\n",
        "cur.execute(tq)\n",
        "conn.commit()"
      ],
      "execution_count": null,
      "outputs": []
    },
    {
      "cell_type": "markdown",
      "metadata": {
        "id": "FvSvaCVNCOnF"
      },
      "source": [
        "Insert items"
      ]
    },
    {
      "cell_type": "code",
      "metadata": {
        "id": "e41-AGatCcIV"
      },
      "source": [
        "data_tups = [tuple(x) for x in time.to_numpy()]\n",
        "\n",
        "iq = \"\"\"INSERT INTO time(INCIDENT_KEY, BORO, PRECINCT,\n",
        "       OCCUR_DATETIME) VALUES(%s, %s, %s, %s);\"\"\"\n",
        "con, cur =  get_conn_cur()\n",
        "cur.executemany(iq, data_tups)\n",
        "con.commit()"
      ],
      "execution_count": null,
      "outputs": []
    },
    {
      "cell_type": "markdown",
      "metadata": {
        "id": "PlM4tK-oVQTZ"
      },
      "source": [
        "## Check\n",
        " \n",
        "Perform some SQL check to validate that your data is in the database.  Do a basic select and filter, or a simple join, for example. "
      ]
    },
    {
      "cell_type": "code",
      "metadata": {
        "id": "nFkRB_SyQj0n"
      },
      "source": [
        "sq = \"\"\" SELECT * FROM shootings\n",
        "          LIMIT 5;\"\"\"\n",
        "run_query(sq)"
      ],
      "execution_count": null,
      "outputs": []
    },
    {
      "cell_type": "code",
      "metadata": {
        "colab": {
          "base_uri": "https://localhost:8080/"
        },
        "id": "qtKjHKM5TrBd",
        "outputId": "0a49b079-4f35-49e0-8769-99e730d02775"
      },
      "source": [
        "sq = \"\"\" SELECT * FROM location\n",
        "          LIMIT 5;\"\"\"\n",
        "run_query(sq)"
      ],
      "execution_count": null,
      "outputs": [
        {
          "output_type": "execute_result",
          "data": {
            "text/plain": [
              "(['incident_key',\n",
              "  'boro',\n",
              "  'precinct',\n",
              "  'jurisdiction_code',\n",
              "  'location_desc',\n",
              "  'statistical_murder_flag',\n",
              "  'x_coord_cd',\n",
              "  'y_coord_cd',\n",
              "  'latitude',\n",
              "  'longitude',\n",
              "  'worst_precinct',\n",
              "  'stat_murder_flag_mean_boro',\n",
              "  'stat_murder_flag_mean_precinct',\n",
              "  'precinct_more_murders'],\n",
              " [(201575314,\n",
              "   'QUEENS',\n",
              "   103,\n",
              "   '0.0',\n",
              "   'Unknown',\n",
              "   0,\n",
              "   '1037451',\n",
              "   '193561',\n",
              "   40.697805308000056,\n",
              "   -73.80814071699997,\n",
              "   113,\n",
              "   0.1987596899224806,\n",
              "   0.17547568710359407,\n",
              "   0),\n",
              "  (205748546,\n",
              "   'BRONX',\n",
              "   40,\n",
              "   '0.0',\n",
              "   'Unknown',\n",
              "   0,\n",
              "   '1006789',\n",
              "   '237559',\n",
              "   40.81869973000005,\n",
              "   -73.91857061799993,\n",
              "   44,\n",
              "   0.18692493946731234,\n",
              "   0.17630057803468208,\n",
              "   0),\n",
              "  (193118596,\n",
              "   'MANHATTAN',\n",
              "   23,\n",
              "   '0.0',\n",
              "   'Unknown',\n",
              "   0,\n",
              "   '999347',\n",
              "   '227795',\n",
              "   40.79191609100008,\n",
              "   -73.94547965999998,\n",
              "   32,\n",
              "   0.17604835663014734,\n",
              "   0.168,\n",
              "   0),\n",
              "  (204192600,\n",
              "   'STATEN ISLAND',\n",
              "   121,\n",
              "   '0.0',\n",
              "   'PVT HOUSE',\n",
              "   1,\n",
              "   '938149',\n",
              "   '171781',\n",
              "   40.63806398200006,\n",
              "   -74.16610830199994,\n",
              "   120,\n",
              "   0.19659442724458204,\n",
              "   0.15789473684210525,\n",
              "   0),\n",
              "  (201483468,\n",
              "   'BRONX',\n",
              "   46,\n",
              "   '0.0',\n",
              "   'Unknown',\n",
              "   0,\n",
              "   '1008224',\n",
              "   '250621',\n",
              "   40.85454734900002,\n",
              "   -73.91333944399997,\n",
              "   44,\n",
              "   0.18692493946731234,\n",
              "   0.19478737997256515,\n",
              "   1)])"
            ]
          },
          "metadata": {
            "tags": []
          },
          "execution_count": 178
        }
      ]
    }
  ]
}